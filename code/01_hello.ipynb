{
  "nbformat": 4,
  "nbformat_minor": 0,
  "metadata": {
    "colab": {
      "name": "01 hello.ipynb",
      "provenance": [],
      "collapsed_sections": [],
      "include_colab_link": true
    },
    "kernelspec": {
      "name": "python3",
      "display_name": "Python 3"
    }
  },
  "cells": [
    {
      "cell_type": "markdown",
      "metadata": {
        "id": "view-in-github",
        "colab_type": "text"
      },
      "source": [
        "<a href=\"https://colab.research.google.com/github/ai7dnn/2021-AI-for-everyone/blob/main/code/01_hello.ipynb\" target=\"_parent\"><img src=\"https://colab.research.google.com/assets/colab-badge.svg\" alt=\"Open In Colab\"/></a>"
      ]
    },
    {
      "cell_type": "markdown",
      "metadata": {
        "id": "j_8-_QeBrQ6h"
      },
      "source": [
        "# 숫자 1과 1을 더하기"
      ]
    },
    {
      "cell_type": "code",
      "metadata": {
        "id": "8FqGjrO5IQoc",
        "colab": {
          "base_uri": "https://localhost:8080/"
        },
        "outputId": "a2815162-a3b5-4c2d-a678-8ab97a67d22f"
      },
      "source": [
        "1+1"
      ],
      "execution_count": 1,
      "outputs": [
        {
          "output_type": "execute_result",
          "data": {
            "text/plain": [
              "2"
            ]
          },
          "metadata": {},
          "execution_count": 1
        }
      ]
    },
    {
      "cell_type": "markdown",
      "metadata": {
        "id": "k4eCE5eGrpvT"
      },
      "source": [
        "#  문자열 \"Hello Colab\"을 화면에 출력하기"
      ]
    },
    {
      "cell_type": "code",
      "metadata": {
        "id": "iFnJA9pvIc8z",
        "colab": {
          "base_uri": "https://localhost:8080/"
        },
        "outputId": "45cc2d66-89eb-4b0b-a377-edc3c3adae3e"
      },
      "source": [
        "print(\"Hello Colab\")"
      ],
      "execution_count": 2,
      "outputs": [
        {
          "output_type": "stream",
          "name": "stdout",
          "text": [
            "Hello Colab\n"
          ]
        }
      ]
    }
  ]
}