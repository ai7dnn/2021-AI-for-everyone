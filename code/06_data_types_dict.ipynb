{
  "nbformat": 4,
  "nbformat_minor": 0,
  "metadata": {
    "colab": {
      "name": "06 data_types_dict.ipynb",
      "provenance": [],
      "collapsed_sections": [],
      "include_colab_link": true
    },
    "kernelspec": {
      "name": "python3",
      "display_name": "Python 3"
    }
  },
  "cells": [
    {
      "cell_type": "markdown",
      "metadata": {
        "id": "view-in-github",
        "colab_type": "text"
      },
      "source": [
        "<a href=\"https://colab.research.google.com/github/ai7dnn/2021-AI-for-everyone/blob/main/code/06_data_types_dict.ipynb\" target=\"_parent\"><img src=\"https://colab.research.google.com/assets/colab-badge.svg\" alt=\"Open In Colab\"/></a>"
      ]
    },
    {
      "cell_type": "markdown",
      "metadata": {
        "id": "CVjavc6MEORy"
      },
      "source": [
        "- 딕셔너리를 만들고 dict1 이라는 변수에 저장한다. 'name' 키는 'Jay' 값을 갖고, 'age' 키는 20을 값으로 갖는다. \n",
        "- dict1 변수를 출력한다. "
      ]
    },
    {
      "cell_type": "code",
      "metadata": {
        "id": "tU9D0xLfDzp_",
        "colab": {
          "base_uri": "https://localhost:8080/"
        },
        "outputId": "4745d4d4-5f1b-4eef-ca34-0b9bf7494ef6"
      },
      "source": [
        "dict1 = {'name':'Jay', 'age':20}\n",
        "dict1"
      ],
      "execution_count": null,
      "outputs": [
        {
          "output_type": "execute_result",
          "data": {
            "text/plain": [
              "{'age': 20, 'name': 'Jay'}"
            ]
          },
          "metadata": {},
          "execution_count": 1
        }
      ]
    },
    {
      "cell_type": "markdown",
      "metadata": {
        "id": "gluPLI_jEfIJ"
      },
      "source": [
        "- dict1 변수의 자료형을 확인한다. "
      ]
    },
    {
      "cell_type": "code",
      "metadata": {
        "id": "hu8doY07EEQf",
        "colab": {
          "base_uri": "https://localhost:8080/"
        },
        "outputId": "f46ba8ab-06bb-4343-efc9-d8f28fc032fc"
      },
      "source": [
        "type(dict1)"
      ],
      "execution_count": null,
      "outputs": [
        {
          "output_type": "execute_result",
          "data": {
            "text/plain": [
              "dict"
            ]
          },
          "metadata": {},
          "execution_count": 2
        }
      ]
    },
    {
      "cell_type": "markdown",
      "metadata": {
        "id": "N3qTR9q5EkJT"
      },
      "source": [
        "- dict1 딕셔서리의 'name' 키와 매칭되는 값을 추출한다. "
      ]
    },
    {
      "cell_type": "code",
      "metadata": {
        "id": "TCwLD9kYEIuz",
        "colab": {
          "base_uri": "https://localhost:8080/",
          "height": 36
        },
        "outputId": "14d55d1f-6e43-41c9-da40-56c989994d2c"
      },
      "source": [
        "dict1['name']"
      ],
      "execution_count": null,
      "outputs": [
        {
          "output_type": "execute_result",
          "data": {
            "application/vnd.google.colaboratory.intrinsic+json": {
              "type": "string"
            },
            "text/plain": [
              "'Jay'"
            ]
          },
          "metadata": {},
          "execution_count": 3
        }
      ]
    },
    {
      "cell_type": "markdown",
      "metadata": {
        "id": "mWProq5sEsH_"
      },
      "source": [
        "- dict1 딕셔서리의 'age' 키와 매칭되는 값을 추출한다. "
      ]
    },
    {
      "cell_type": "code",
      "metadata": {
        "id": "VGVrwJ4dELNe",
        "colab": {
          "base_uri": "https://localhost:8080/"
        },
        "outputId": "f93e252e-2b0f-4b11-9be5-be9f4a4a9d74"
      },
      "source": [
        "dict1['age']"
      ],
      "execution_count": null,
      "outputs": [
        {
          "output_type": "execute_result",
          "data": {
            "text/plain": [
              "20"
            ]
          },
          "metadata": {},
          "execution_count": 4
        }
      ]
    },
    {
      "cell_type": "markdown",
      "metadata": {
        "id": "qVRV87AwEvCK"
      },
      "source": [
        "- dict1 딕셔서리에 새로운 원소를 추가한다. 'grade' 키에 매칭되는 값으로 리스트([3.0, 4.0, 3.5, 4.2])를 추가한다.  \n",
        "- dict1 변수를 출력한다. "
      ]
    },
    {
      "cell_type": "code",
      "metadata": {
        "id": "fe3fEjOfENbv",
        "colab": {
          "base_uri": "https://localhost:8080/"
        },
        "outputId": "030ba9d0-1cdb-4c81-a874-49ffc67ddd18"
      },
      "source": [
        "dict1['grade'] = [3.0, 4.0, 3.5, 4.2]\n",
        "dict1"
      ],
      "execution_count": null,
      "outputs": [
        {
          "output_type": "execute_result",
          "data": {
            "text/plain": [
              "{'age': 20, 'grade': [3.0, 4.0, 3.5, 4.2], 'name': 'Jay'}"
            ]
          },
          "metadata": {},
          "execution_count": 5
        }
      ]
    },
    {
      "cell_type": "markdown",
      "metadata": {
        "id": "5A85tF0oFIq7"
      },
      "source": [
        "- dict1 변수에 저장된 딕셔너리의 키(key)를 모두 추출한다. (keys 메소드 활용)"
      ]
    },
    {
      "cell_type": "code",
      "metadata": {
        "id": "l5vFhNjSEoLq",
        "colab": {
          "base_uri": "https://localhost:8080/"
        },
        "outputId": "9fd07b02-3676-4191-a85f-35e03447cbd3"
      },
      "source": [
        "dict1.keys()"
      ],
      "execution_count": null,
      "outputs": [
        {
          "output_type": "execute_result",
          "data": {
            "text/plain": [
              "dict_keys(['name', 'age', 'grade'])"
            ]
          },
          "metadata": {},
          "execution_count": 6
        }
      ]
    },
    {
      "cell_type": "markdown",
      "metadata": {
        "id": "LSRe3qHIFgyB"
      },
      "source": [
        "- dict1 변수에 저장된 딕셔너리의 값(value)을 모두 추출한다. (values 메소드 활용)"
      ]
    },
    {
      "cell_type": "code",
      "metadata": {
        "id": "dByivbuQEyut",
        "colab": {
          "base_uri": "https://localhost:8080/"
        },
        "outputId": "eb1844e8-4a94-4534-9b0b-83fd18cbfc74"
      },
      "source": [
        "dict1.values()"
      ],
      "execution_count": null,
      "outputs": [
        {
          "output_type": "execute_result",
          "data": {
            "text/plain": [
              "dict_values(['Jay', 20, [3.0, 4.0, 3.5, 4.2]])"
            ]
          },
          "metadata": {},
          "execution_count": 7
        }
      ]
    },
    {
      "cell_type": "markdown",
      "metadata": {
        "id": "xNTqruufFtXY"
      },
      "source": [
        "- dict1 변수에 저장된 딕셔너리의 키(key)와 값(value) 쌍을 모두 추출한다. (items 메소드 활용)"
      ]
    },
    {
      "cell_type": "code",
      "metadata": {
        "id": "X1VqKKphE3DD",
        "colab": {
          "base_uri": "https://localhost:8080/"
        },
        "outputId": "612ef029-e2ce-4731-9ab6-aa48f6a61353"
      },
      "source": [
        "dict1.items()"
      ],
      "execution_count": null,
      "outputs": [
        {
          "output_type": "execute_result",
          "data": {
            "text/plain": [
              "dict_items([('name', 'Jay'), ('age', 20), ('grade', [3.0, 4.0, 3.5, 4.2])])"
            ]
          },
          "metadata": {},
          "execution_count": 8
        }
      ]
    },
    {
      "cell_type": "code",
      "metadata": {
        "id": "MF1oTu84m9AK"
      },
      "source": [
        ""
      ],
      "execution_count": null,
      "outputs": []
    }
  ]
}