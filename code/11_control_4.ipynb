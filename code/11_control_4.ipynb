{
  "nbformat": 4,
  "nbformat_minor": 0,
  "metadata": {
    "colab": {
      "name": "11 control_4.ipynb",
      "provenance": [],
      "collapsed_sections": [],
      "include_colab_link": true
    },
    "kernelspec": {
      "name": "python3",
      "display_name": "Python 3"
    }
  },
  "cells": [
    {
      "cell_type": "markdown",
      "metadata": {
        "id": "view-in-github",
        "colab_type": "text"
      },
      "source": [
        "<a href=\"https://colab.research.google.com/github/ai7dnn/2021-AI-for-everyone/blob/main/code/11_control_4.ipynb\" target=\"_parent\"><img src=\"https://colab.research.google.com/assets/colab-badge.svg\" alt=\"Open In Colab\"/></a>"
      ]
    },
    {
      "cell_type": "markdown",
      "metadata": {
        "id": "nfJKVa058gPV"
      },
      "source": [
        "- 딕셔너리 만들기"
      ]
    },
    {
      "cell_type": "code",
      "metadata": {
        "id": "P7DsKs9y8klx",
        "outputId": "1265088a-7720-4315-da0f-e7ec0527ec0c",
        "colab": {
          "base_uri": "https://localhost:8080/",
          "height": 34
        }
      },
      "source": [
        "data = {'name': 'Jay', 'age': 20, 'grade': [3.0, 4.0, 3.5, 4.2]}\n",
        "data"
      ],
      "execution_count": null,
      "outputs": [
        {
          "output_type": "execute_result",
          "data": {
            "text/plain": [
              "{'age': 20, 'grade': [3.0, 4.0, 3.5, 4.2], 'name': 'Jay'}"
            ]
          },
          "metadata": {
            "tags": []
          },
          "execution_count": 1
        }
      ]
    },
    {
      "cell_type": "markdown",
      "metadata": {
        "id": "jPpkgQMq8tAz"
      },
      "source": [
        "- 'address'키에 매칭되는 값을 선택한다. (오류 메시지 발생)"
      ]
    },
    {
      "cell_type": "code",
      "metadata": {
        "id": "PFUZsaJjH-vt",
        "outputId": "7223cb79-b713-469c-9727-7941f0996384",
        "colab": {
          "base_uri": "https://localhost:8080/",
          "height": 169
        }
      },
      "source": [
        "data['address']"
      ],
      "execution_count": null,
      "outputs": [
        {
          "output_type": "error",
          "ename": "KeyError",
          "evalue": "ignored",
          "traceback": [
            "\u001b[0;31m---------------------------------------------------------------------------\u001b[0m",
            "\u001b[0;31mKeyError\u001b[0m                                  Traceback (most recent call last)",
            "\u001b[0;32m<ipython-input-2-2f613a4f5ebc>\u001b[0m in \u001b[0;36m<module>\u001b[0;34m()\u001b[0m\n\u001b[0;32m----> 1\u001b[0;31m \u001b[0mdata\u001b[0m\u001b[0;34m[\u001b[0m\u001b[0;34m'address'\u001b[0m\u001b[0;34m]\u001b[0m\u001b[0;34m\u001b[0m\u001b[0;34m\u001b[0m\u001b[0m\n\u001b[0m",
            "\u001b[0;31mKeyError\u001b[0m: 'address'"
          ]
        }
      ]
    },
    {
      "cell_type": "markdown",
      "metadata": {
        "id": "jsllkeU985rK"
      },
      "source": [
        "- try: 'address' 키와 매칭되는 값을 추출해서, \"주소: \" 문자열과 함께 출력한다.\n",
        "- except: try 구문에 오류가 발생되면 이 부분의 코드가 실행된다.(예외처리)"
      ]
    },
    {
      "cell_type": "code",
      "metadata": {
        "id": "BYnqszzVH_go",
        "outputId": "f712bc50-e224-42ea-89c6-2bc014230f5b",
        "colab": {
          "base_uri": "https://localhost:8080/",
          "height": 34
        }
      },
      "source": [
        "try:\n",
        "    print(\"주소:\", data['address'])\n",
        "except:\n",
        "    print(\"주소 정보가 없습니다\")"
      ],
      "execution_count": null,
      "outputs": [
        {
          "output_type": "stream",
          "text": [
            "주소 정보가 없습니다\n"
          ],
          "name": "stdout"
        }
      ]
    },
    {
      "cell_type": "markdown",
      "metadata": {
        "id": "QfqwWVNy9RPQ"
      },
      "source": [
        "- try: 'name' 키와 매칭되는 값을 추출해서, \"이름: \" 문자열과 함께 출력한다.\n",
        "- except: try 구문에 오류가 발생되면 이 부분의 코드가 실행된다.(예외처리)\n",
        "- finally: 이 부분의 코드는 무조건 실행된다. "
      ]
    },
    {
      "cell_type": "code",
      "metadata": {
        "id": "yHM8fbVuJNsJ",
        "outputId": "4aa6a1d1-63c1-42ef-c21c-163274d2be20",
        "colab": {
          "base_uri": "https://localhost:8080/",
          "height": 52
        }
      },
      "source": [
        "try:\n",
        "    print(\"이름:\", data['name'])\n",
        "except:\n",
        "    print(\"이름 정보가 없습니다\")\n",
        "finally:\n",
        "    print(\"모든 작업이 완료되었습니다\")      "
      ],
      "execution_count": null,
      "outputs": [
        {
          "output_type": "stream",
          "text": [
            "이름: Jay\n",
            "모든 작업이 완료되었습니다\n"
          ],
          "name": "stdout"
        }
      ]
    },
    {
      "cell_type": "code",
      "metadata": {
        "id": "MaITlyNgQRUn"
      },
      "source": [
        ""
      ],
      "execution_count": null,
      "outputs": []
    }
  ]
}