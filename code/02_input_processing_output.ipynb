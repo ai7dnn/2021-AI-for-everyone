{
  "nbformat": 4,
  "nbformat_minor": 0,
  "metadata": {
    "colab": {
      "name": "02 input_processing_output.ipynb",
      "provenance": [],
      "collapsed_sections": [],
      "include_colab_link": true
    },
    "kernelspec": {
      "name": "python3",
      "display_name": "Python 3"
    }
  },
  "cells": [
    {
      "cell_type": "markdown",
      "metadata": {
        "id": "view-in-github",
        "colab_type": "text"
      },
      "source": [
        "<a href=\"https://colab.research.google.com/github/ai7dnn/2021-AI-for-everyone/blob/main/code/02_input_processing_output.ipynb\" target=\"_parent\"><img src=\"https://colab.research.google.com/assets/colab-badge.svg\" alt=\"Open In Colab\"/></a>"
      ]
    },
    {
      "cell_type": "markdown",
      "metadata": {
        "id": "dFWPXOsqs8Zr"
      },
      "source": [
        "# 데이터 입력, 연산, 출력\n",
        "- 숫자 1과 2를 더한다"
      ]
    },
    {
      "cell_type": "code",
      "metadata": {
        "id": "sKUhQpeyuqoH",
        "colab": {
          "base_uri": "https://localhost:8080/"
        },
        "outputId": "b55eb21c-414d-41e9-96f7-a3f8a5296cb0"
      },
      "source": [
        "1+2"
      ],
      "execution_count": null,
      "outputs": [
        {
          "output_type": "execute_result",
          "data": {
            "text/plain": [
              "3"
            ]
          },
          "metadata": {},
          "execution_count": 3
        }
      ]
    },
    {
      "cell_type": "markdown",
      "metadata": {
        "id": "EPlmB3gYuoI9"
      },
      "source": [
        "- 숫자 5를 변수 var1에 할당(저장)한다"
      ]
    },
    {
      "cell_type": "code",
      "metadata": {
        "id": "LAl6V3oNl3vc"
      },
      "source": [
        "var1 = 5"
      ],
      "execution_count": null,
      "outputs": []
    },
    {
      "cell_type": "markdown",
      "metadata": {
        "id": "NaGPr3m7ut0K"
      },
      "source": [
        "- var1 변수이름을 입력하고 실행한다. "
      ]
    },
    {
      "cell_type": "code",
      "metadata": {
        "id": "Be_jAAVkwqyS",
        "colab": {
          "base_uri": "https://localhost:8080/"
        },
        "outputId": "da54ce67-a011-4f98-c0b1-2a26d42f9f5d"
      },
      "source": [
        "var1"
      ],
      "execution_count": null,
      "outputs": [
        {
          "output_type": "execute_result",
          "data": {
            "text/plain": [
              "5"
            ]
          },
          "metadata": {},
          "execution_count": 5
        }
      ]
    },
    {
      "cell_type": "markdown",
      "metadata": {
        "id": "TbhgFTdvu3ta"
      },
      "source": [
        "- var1 변수에 새로운 값(숫자 10)을 입력한다. "
      ]
    },
    {
      "cell_type": "code",
      "metadata": {
        "id": "stvxBuQexA2u",
        "colab": {
          "base_uri": "https://localhost:8080/"
        },
        "outputId": "3d212caa-a3bd-479a-fa7f-60560d7cadcb"
      },
      "source": [
        "var1 = 10\n",
        "var1"
      ],
      "execution_count": null,
      "outputs": [
        {
          "output_type": "execute_result",
          "data": {
            "text/plain": [
              "10"
            ]
          },
          "metadata": {},
          "execution_count": 6
        }
      ]
    },
    {
      "cell_type": "markdown",
      "metadata": {
        "id": "Fq_XOFnFvUf3"
      },
      "source": [
        "- 숫자 20을 var2 변수에 저장한다. \n",
        "- var2 변수이름을 입력하고 실행한다. \n"
      ]
    },
    {
      "cell_type": "code",
      "metadata": {
        "id": "Fl9AHnRml4GV",
        "colab": {
          "base_uri": "https://localhost:8080/"
        },
        "outputId": "20d83889-26fc-4f2d-fdc0-7ec950517f71"
      },
      "source": [
        "var2 = 20\n",
        "var2"
      ],
      "execution_count": null,
      "outputs": [
        {
          "output_type": "execute_result",
          "data": {
            "text/plain": [
              "20"
            ]
          },
          "metadata": {},
          "execution_count": 7
        }
      ]
    },
    {
      "cell_type": "markdown",
      "metadata": {
        "id": "k2Sl9UFDvflr"
      },
      "source": [
        "- var1 변수와 var2 변수를 더하고, 그 결과를 var3 변수에 할당한다. \n",
        "- var3 변수이름을 입력하고 실행한다. "
      ]
    },
    {
      "cell_type": "code",
      "metadata": {
        "id": "mT8sS9kzvNrp",
        "colab": {
          "base_uri": "https://localhost:8080/"
        },
        "outputId": "21f591ab-d776-40fb-e2d2-44d8916f8481"
      },
      "source": [
        "var3 = var1 + var2\n",
        "var3"
      ],
      "execution_count": null,
      "outputs": [
        {
          "output_type": "execute_result",
          "data": {
            "text/plain": [
              "30"
            ]
          },
          "metadata": {},
          "execution_count": 8
        }
      ]
    },
    {
      "cell_type": "markdown",
      "metadata": {
        "id": "rOE2k2dev0zT"
      },
      "source": [
        "- var1 변수를 print 함수로 출력한다. "
      ]
    },
    {
      "cell_type": "code",
      "metadata": {
        "id": "DnPZZhdEtz_w",
        "colab": {
          "base_uri": "https://localhost:8080/"
        },
        "outputId": "c1183e08-f8b5-42a3-ef8d-fcb918756281"
      },
      "source": [
        "print(var1)"
      ],
      "execution_count": null,
      "outputs": [
        {
          "output_type": "stream",
          "name": "stdout",
          "text": [
            "10\n"
          ]
        }
      ]
    },
    {
      "cell_type": "markdown",
      "metadata": {
        "id": "C26I9WMJv7kH"
      },
      "source": [
        "- var1 변수와 var2 변수를 더하는 식을 print 함수에 입력하여 덧셈의 결과를 화면에 출력한다. "
      ]
    },
    {
      "cell_type": "code",
      "metadata": {
        "id": "ZcgnytDht6DV",
        "colab": {
          "base_uri": "https://localhost:8080/"
        },
        "outputId": "a67bd11d-08d0-49b0-ec7d-2a472a9ddb9c"
      },
      "source": [
        "print(var1 + var2)"
      ],
      "execution_count": null,
      "outputs": [
        {
          "output_type": "stream",
          "name": "stdout",
          "text": [
            "30\n"
          ]
        }
      ]
    },
    {
      "cell_type": "markdown",
      "metadata": {
        "id": "T-UQfrl_wHC9"
      },
      "source": [
        "- var1 변수와 var2 변수를 쉼표(,)로 구분하여 print 함수에 입력한다. "
      ]
    },
    {
      "cell_type": "code",
      "metadata": {
        "id": "Qm9Kmr4It2pW",
        "colab": {
          "base_uri": "https://localhost:8080/"
        },
        "outputId": "40b285ce-3728-4d0e-88b1-7e3b28579a92"
      },
      "source": [
        "print(var1, var2)"
      ],
      "execution_count": null,
      "outputs": [
        {
          "output_type": "stream",
          "name": "stdout",
          "text": [
            "10 20\n"
          ]
        }
      ]
    },
    {
      "cell_type": "markdown",
      "metadata": {
        "id": "Cy4FZ-b8wa6E"
      },
      "source": [
        "- \"덧셈: \" 문자열 다음에 연산식(var1 + var2)의 결과값이 출력되도록 쉼표(,)로 구분하여 print 함수에 입력한다."
      ]
    },
    {
      "cell_type": "code",
      "metadata": {
        "id": "xfVYYGTIv0dX",
        "colab": {
          "base_uri": "https://localhost:8080/"
        },
        "outputId": "7935fae5-f0cf-4e51-f70f-ccde54785cef"
      },
      "source": [
        "print(\"덧셈: \", var1 + var2)"
      ],
      "execution_count": null,
      "outputs": [
        {
          "output_type": "stream",
          "name": "stdout",
          "text": [
            "덧셈:  30\n"
          ]
        }
      ]
    },
    {
      "cell_type": "code",
      "metadata": {
        "id": "i8lsF3qblSvk"
      },
      "source": [
        ""
      ],
      "execution_count": null,
      "outputs": []
    }
  ]
}