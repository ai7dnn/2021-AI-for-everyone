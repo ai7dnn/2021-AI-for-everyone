{
  "nbformat": 4,
  "nbformat_minor": 0,
  "metadata": {
    "colab": {
      "name": "14 function_3.ipynb",
      "provenance": [],
      "collapsed_sections": [],
      "include_colab_link": true
    },
    "kernelspec": {
      "name": "python3",
      "display_name": "Python 3"
    }
  },
  "cells": [
    {
      "cell_type": "markdown",
      "metadata": {
        "id": "view-in-github",
        "colab_type": "text"
      },
      "source": [
        "<a href=\"https://colab.research.google.com/github/ai7dnn/2021-AI-for-everyone/blob/main/code/14_function_3.ipynb\" target=\"_parent\"><img src=\"https://colab.research.google.com/assets/colab-badge.svg\" alt=\"Open In Colab\"/></a>"
      ]
    },
    {
      "cell_type": "markdown",
      "metadata": {
        "id": "ntvNL1CyHiK-"
      },
      "source": [
        "- 숫자 1~10을 원소로 갖는 리스트를 만들고, 원소의 합을 구한다. (sum 함수)"
      ]
    },
    {
      "cell_type": "code",
      "metadata": {
        "id": "A5T0taolLyM6",
        "outputId": "02947346-7dce-4b68-bed2-09b18538f0a4",
        "colab": {
          "base_uri": "https://localhost:8080/",
          "height": 34
        }
      },
      "source": [
        "numbers = [1, 2, 3, 4, 5, 6, 7, 8, 9, 10]\n",
        "sum(numbers)"
      ],
      "execution_count": null,
      "outputs": [
        {
          "output_type": "execute_result",
          "data": {
            "text/plain": [
              "55"
            ]
          },
          "metadata": {
            "tags": []
          },
          "execution_count": 1
        }
      ]
    },
    {
      "cell_type": "markdown",
      "metadata": {
        "id": "2VQtSDK9HzIV"
      },
      "source": [
        "- 최대값 (max)"
      ]
    },
    {
      "cell_type": "code",
      "metadata": {
        "id": "b8ITg3udyqdT",
        "outputId": "7c951fc1-dd19-4bb4-8a76-23c69692a9e7",
        "colab": {
          "base_uri": "https://localhost:8080/",
          "height": 34
        }
      },
      "source": [
        "max(numbers)"
      ],
      "execution_count": null,
      "outputs": [
        {
          "output_type": "execute_result",
          "data": {
            "text/plain": [
              "10"
            ]
          },
          "metadata": {
            "tags": []
          },
          "execution_count": 2
        }
      ]
    },
    {
      "cell_type": "markdown",
      "metadata": {
        "id": "MWb0ovoxH3Ax"
      },
      "source": [
        "- 최소값(min)"
      ]
    },
    {
      "cell_type": "code",
      "metadata": {
        "id": "EooDoGWTys4L",
        "outputId": "30476bd1-34c6-4306-ec37-05eccaf3c788",
        "colab": {
          "base_uri": "https://localhost:8080/",
          "height": 34
        }
      },
      "source": [
        "min(numbers)"
      ],
      "execution_count": null,
      "outputs": [
        {
          "output_type": "execute_result",
          "data": {
            "text/plain": [
              "1"
            ]
          },
          "metadata": {
            "tags": []
          },
          "execution_count": 3
        }
      ]
    },
    {
      "cell_type": "markdown",
      "metadata": {
        "id": "LfZzZlCFH6SC"
      },
      "source": [
        "- 원소의 개수 또는 길이 (len)"
      ]
    },
    {
      "cell_type": "code",
      "metadata": {
        "id": "pXjA6bSfyih8",
        "outputId": "185c3a53-3e88-41ed-9077-ac1c34f35c9d",
        "colab": {
          "base_uri": "https://localhost:8080/",
          "height": 34
        }
      },
      "source": [
        "len(numbers)"
      ],
      "execution_count": null,
      "outputs": [
        {
          "output_type": "execute_result",
          "data": {
            "text/plain": [
              "10"
            ]
          },
          "metadata": {
            "tags": []
          },
          "execution_count": 4
        }
      ]
    },
    {
      "cell_type": "markdown",
      "metadata": {
        "id": "znQP7_bfIA8q"
      },
      "source": [
        "- enumerate 함수"
      ]
    },
    {
      "cell_type": "code",
      "metadata": {
        "id": "Iz-2qzEsyMyZ",
        "outputId": "a5bf140f-6d91-499a-f97f-cf32c1762031",
        "colab": {
          "base_uri": "https://localhost:8080/",
          "height": 193
        }
      },
      "source": [
        "for i, num in enumerate(numbers):\n",
        "    print(i, num)"
      ],
      "execution_count": null,
      "outputs": [
        {
          "output_type": "stream",
          "text": [
            "0 1\n",
            "1 2\n",
            "2 3\n",
            "3 4\n",
            "4 5\n",
            "5 6\n",
            "6 7\n",
            "7 8\n",
            "8 9\n",
            "9 10\n"
          ],
          "name": "stdout"
        }
      ]
    },
    {
      "cell_type": "markdown",
      "metadata": {
        "id": "A_9U08Z7IGZT"
      },
      "source": [
        "- range 함수"
      ]
    },
    {
      "cell_type": "code",
      "metadata": {
        "id": "zvPbVMxcy4nw",
        "outputId": "641d6a7c-0def-47b1-c67e-56578d96cb11",
        "colab": {
          "base_uri": "https://localhost:8080/",
          "height": 34
        }
      },
      "source": [
        "range(10)"
      ],
      "execution_count": null,
      "outputs": [
        {
          "output_type": "execute_result",
          "data": {
            "text/plain": [
              "range(0, 10)"
            ]
          },
          "metadata": {
            "tags": []
          },
          "execution_count": 6
        }
      ]
    },
    {
      "cell_type": "markdown",
      "metadata": {
        "id": "JJBbMLgKIK8S"
      },
      "source": [
        "- list 함수"
      ]
    },
    {
      "cell_type": "code",
      "metadata": {
        "id": "EQ7mNwJix63q",
        "outputId": "33b3ba8b-a1c7-414e-bac2-2a26e726f814",
        "colab": {
          "base_uri": "https://localhost:8080/",
          "height": 34
        }
      },
      "source": [
        "range(1, 10)\n",
        "list(range(1, 10))"
      ],
      "execution_count": null,
      "outputs": [
        {
          "output_type": "execute_result",
          "data": {
            "text/plain": [
              "[1, 2, 3, 4, 5, 6, 7, 8, 9]"
            ]
          },
          "metadata": {
            "tags": []
          },
          "execution_count": 7
        }
      ]
    },
    {
      "cell_type": "markdown",
      "metadata": {
        "id": "BpvXklcIIQA2"
      },
      "source": [
        "- print 함수"
      ]
    },
    {
      "cell_type": "code",
      "metadata": {
        "id": "bFsjP_WqzHPF",
        "outputId": "abf50a18-5850-46ad-c40d-3578a006b161",
        "colab": {
          "base_uri": "https://localhost:8080/",
          "height": 34
        }
      },
      "source": [
        "print(list(range(10)))"
      ],
      "execution_count": null,
      "outputs": [
        {
          "output_type": "stream",
          "text": [
            "[0, 1, 2, 3, 4, 5, 6, 7, 8, 9]\n"
          ],
          "name": "stdout"
        }
      ]
    },
    {
      "cell_type": "markdown",
      "metadata": {
        "id": "oQ2M3b3xITtd"
      },
      "source": [
        "- eval 함수"
      ]
    },
    {
      "cell_type": "code",
      "metadata": {
        "id": "xy4bwjrpxtg3",
        "outputId": "0fd6c44d-128c-43a6-de9a-85acae07df8d",
        "colab": {
          "base_uri": "https://localhost:8080/",
          "height": 34
        }
      },
      "source": [
        "eval('print(numbers)')"
      ],
      "execution_count": null,
      "outputs": [
        {
          "output_type": "stream",
          "text": [
            "[1, 2, 3, 4, 5, 6, 7, 8, 9, 10]\n"
          ],
          "name": "stdout"
        }
      ]
    },
    {
      "cell_type": "markdown",
      "metadata": {
        "id": "TU1RU4mIIW2v"
      },
      "source": [
        "- map 함수"
      ]
    },
    {
      "cell_type": "code",
      "metadata": {
        "id": "sgydVn3Bynkb",
        "outputId": "1d5d4147-ca87-4716-d5d5-0887a7ec25b1",
        "colab": {
          "base_uri": "https://localhost:8080/",
          "height": 34
        }
      },
      "source": [
        "add_one = lambda x: x+1\n",
        "results = map(add_one, numbers)\n",
        "\n",
        "print(list(results))"
      ],
      "execution_count": null,
      "outputs": [
        {
          "output_type": "stream",
          "text": [
            "[2, 3, 4, 5, 6, 7, 8, 9, 10, 11]\n"
          ],
          "name": "stdout"
        }
      ]
    },
    {
      "cell_type": "markdown",
      "metadata": {
        "id": "CWH69nOiIajT"
      },
      "source": [
        "- filter 함수"
      ]
    },
    {
      "cell_type": "code",
      "metadata": {
        "id": "J12nSZlqx4qM",
        "outputId": "305603aa-f09a-4159-ff72-d032b873afb5",
        "colab": {
          "base_uri": "https://localhost:8080/",
          "height": 34
        }
      },
      "source": [
        "even_num = lambda x: x%2==0\n",
        "results = filter(even_num, numbers)\n",
        "\n",
        "print(list(results))"
      ],
      "execution_count": null,
      "outputs": [
        {
          "output_type": "stream",
          "text": [
            "[2, 4, 6, 8, 10]\n"
          ],
          "name": "stdout"
        }
      ]
    },
    {
      "cell_type": "markdown",
      "metadata": {
        "id": "rA_H8AECIcjS"
      },
      "source": [
        "- int 함수"
      ]
    },
    {
      "cell_type": "code",
      "metadata": {
        "id": "BY8R3Qekynoe",
        "outputId": "f25562dd-e35b-4292-b0ef-c3c33f6cac1c",
        "colab": {
          "base_uri": "https://localhost:8080/",
          "height": 34
        }
      },
      "source": [
        "int(3.14)"
      ],
      "execution_count": null,
      "outputs": [
        {
          "output_type": "execute_result",
          "data": {
            "text/plain": [
              "3"
            ]
          },
          "metadata": {
            "tags": []
          },
          "execution_count": 12
        }
      ]
    },
    {
      "cell_type": "markdown",
      "metadata": {
        "id": "ZAjuNjDiIe0R"
      },
      "source": [
        "- str 함수"
      ]
    },
    {
      "cell_type": "code",
      "metadata": {
        "id": "EGD06sCazQ6p",
        "outputId": "37af9283-be62-42a5-b211-c3e254af1da9",
        "colab": {
          "base_uri": "https://localhost:8080/",
          "height": 34
        }
      },
      "source": [
        "str(3.14)"
      ],
      "execution_count": null,
      "outputs": [
        {
          "output_type": "execute_result",
          "data": {
            "application/vnd.google.colaboratory.intrinsic+json": {
              "type": "string"
            },
            "text/plain": [
              "'3.14'"
            ]
          },
          "metadata": {
            "tags": []
          },
          "execution_count": 13
        }
      ]
    },
    {
      "cell_type": "markdown",
      "metadata": {
        "id": "SbZeHgUOIip2"
      },
      "source": [
        "- round 함수"
      ]
    },
    {
      "cell_type": "code",
      "metadata": {
        "id": "XdbuSnOUzSzE",
        "outputId": "3abdf372-6a61-401c-9399-c353c60c0d6f",
        "colab": {
          "base_uri": "https://localhost:8080/",
          "height": 34
        }
      },
      "source": [
        "round(3.14)"
      ],
      "execution_count": null,
      "outputs": [
        {
          "output_type": "execute_result",
          "data": {
            "text/plain": [
              "3"
            ]
          },
          "metadata": {
            "tags": []
          },
          "execution_count": 14
        }
      ]
    },
    {
      "cell_type": "code",
      "metadata": {
        "id": "eeZG4upLImZC",
        "outputId": "26298429-9f12-4c86-cfc9-eeb79df4d649",
        "colab": {
          "base_uri": "https://localhost:8080/",
          "height": 34
        }
      },
      "source": [
        "round(3.14, 1)"
      ],
      "execution_count": null,
      "outputs": [
        {
          "output_type": "execute_result",
          "data": {
            "text/plain": [
              "3.1"
            ]
          },
          "metadata": {
            "tags": []
          },
          "execution_count": 15
        }
      ]
    },
    {
      "cell_type": "markdown",
      "metadata": {
        "id": "mmDOqusCIq9m"
      },
      "source": [
        "- reversed 함수"
      ]
    },
    {
      "cell_type": "code",
      "metadata": {
        "id": "0FSOicGIzYkG",
        "outputId": "1817857f-791c-49f3-b5d7-0c0cc4633dab",
        "colab": {
          "base_uri": "https://localhost:8080/",
          "height": 34
        }
      },
      "source": [
        "numbers_reversed = reversed(numbers)\n",
        "print(list(numbers_reversed))"
      ],
      "execution_count": null,
      "outputs": [
        {
          "output_type": "stream",
          "text": [
            "[10, 9, 8, 7, 6, 5, 4, 3, 2, 1]\n"
          ],
          "name": "stdout"
        }
      ]
    },
    {
      "cell_type": "markdown",
      "metadata": {
        "id": "jGcgk5jOIteD"
      },
      "source": [
        "- sorted 함수"
      ]
    },
    {
      "cell_type": "code",
      "metadata": {
        "id": "CiY6Z49uzesG",
        "outputId": "a4321ccc-f300-4833-c77a-1ac926c6ce6f",
        "colab": {
          "base_uri": "https://localhost:8080/",
          "height": 34
        }
      },
      "source": [
        "sorted([3, 2, 1])"
      ],
      "execution_count": null,
      "outputs": [
        {
          "output_type": "execute_result",
          "data": {
            "text/plain": [
              "[1, 2, 3]"
            ]
          },
          "metadata": {
            "tags": []
          },
          "execution_count": 17
        }
      ]
    },
    {
      "cell_type": "markdown",
      "metadata": {
        "id": "GTKybW86IvcQ"
      },
      "source": [
        "- zip 함수"
      ]
    },
    {
      "cell_type": "code",
      "metadata": {
        "id": "uycYZ4Loz3wM",
        "outputId": "11047883-fc60-4a4c-9c35-fcdbf2caa7b0",
        "colab": {
          "base_uri": "https://localhost:8080/",
          "height": 34
        }
      },
      "source": [
        "chars = ['a', 'b', 'c']\n",
        "nums = [1, 2, 3]\n",
        "pairs = zip(chars, nums)\n",
        "\n",
        "print(list(pairs))"
      ],
      "execution_count": null,
      "outputs": [
        {
          "output_type": "stream",
          "text": [
            "[('a', 1), ('b', 2), ('c', 3)]\n"
          ],
          "name": "stdout"
        }
      ]
    }
  ]
}