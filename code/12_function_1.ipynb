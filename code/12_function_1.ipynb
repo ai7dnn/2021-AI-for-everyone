{
  "nbformat": 4,
  "nbformat_minor": 0,
  "metadata": {
    "colab": {
      "name": "12 function_1.ipynb",
      "provenance": [],
      "collapsed_sections": [],
      "include_colab_link": true
    },
    "kernelspec": {
      "name": "python3",
      "display_name": "Python 3"
    }
  },
  "cells": [
    {
      "cell_type": "markdown",
      "metadata": {
        "id": "view-in-github",
        "colab_type": "text"
      },
      "source": [
        "<a href=\"https://colab.research.google.com/github/ai7dnn/2021-AI-for-everyone/blob/main/code/12_function_1.ipynb\" target=\"_parent\"><img src=\"https://colab.research.google.com/assets/colab-badge.svg\" alt=\"Open In Colab\"/></a>"
      ]
    },
    {
      "cell_type": "markdown",
      "metadata": {
        "id": "VdJBD3Yo-HMe"
      },
      "source": [
        "- cal_modulo라는 함수를 정의한다. (숫자 a, b를 입력 받고 a를 b로 나눈 나머지를 출력 값으로 내보낸다.)"
      ]
    },
    {
      "cell_type": "code",
      "metadata": {
        "id": "oorQEIu0LpZ0"
      },
      "source": [
        "def cal_modulo(a, b):\n",
        "    temp = a % b\n",
        "    return temp"
      ],
      "execution_count": null,
      "outputs": []
    },
    {
      "cell_type": "markdown",
      "metadata": {
        "id": "Q99HBK7y-XXr"
      },
      "source": [
        "- cal_modulo 함수를 이용하여, 숫자 5를 3으로 나눈 나머지를 계산한다."
      ]
    },
    {
      "cell_type": "code",
      "metadata": {
        "id": "0mXa8IIaOfaR",
        "outputId": "2a826b65-353b-4bb1-dfe3-5a0eee42c530",
        "colab": {
          "base_uri": "https://localhost:8080/",
          "height": 34
        }
      },
      "source": [
        "cal_modulo(5, 3)"
      ],
      "execution_count": null,
      "outputs": [
        {
          "output_type": "execute_result",
          "data": {
            "text/plain": [
              "2"
            ]
          },
          "metadata": {
            "tags": []
          },
          "execution_count": 2
        }
      ]
    },
    {
      "cell_type": "markdown",
      "metadata": {
        "id": "bSHZLnXV-efD"
      },
      "source": [
        "- cal_modulo 함수를 이용하여, 숫자 10을 3으로 나눈 나머지를 구한다. \n",
        "- 함수가 반환하는 나머지를 modulo 변수에 저장하고, 화면에 출력한다."
      ]
    },
    {
      "cell_type": "code",
      "metadata": {
        "id": "JZiT1rB8OlIA",
        "outputId": "3a93c8f7-0f36-45ac-ea21-f9df0f6c2b6e",
        "colab": {
          "base_uri": "https://localhost:8080/",
          "height": 34
        }
      },
      "source": [
        "modulo = cal_modulo(10, 3)\n",
        "print(modulo)"
      ],
      "execution_count": null,
      "outputs": [
        {
          "output_type": "stream",
          "text": [
            "1\n"
          ],
          "name": "stdout"
        }
      ]
    },
    {
      "cell_type": "markdown",
      "metadata": {
        "id": "ThNBbWqK-uxK"
      },
      "source": [
        "- 3개의 숫자 쌍을 원소로 갖는 리스트(num_pairs)를 정의한다.\n",
        "- cal_modulo 함수를 이용하여, 리스트 원소인 숫자 쌍의 값들에 대한 나머지를 구한다.  \n",
        "- for 반복문으로 함수가 반환하는 나머지를 modulo 변수에 저장하고, 화면에 반복해서 출력한다."
      ]
    },
    {
      "cell_type": "code",
      "metadata": {
        "id": "MKyKWeQ0NIft",
        "outputId": "4cae3858-aa86-43c3-d63f-47e883f31d76",
        "colab": {
          "base_uri": "https://localhost:8080/",
          "height": 70
        }
      },
      "source": [
        "num_pairs = [(5, 3), (2, 2), (10, 3)]\n",
        "for a, b in num_pairs:\n",
        "    modulo = cal_modulo(a, b)\n",
        "    print(modulo)"
      ],
      "execution_count": null,
      "outputs": [
        {
          "output_type": "stream",
          "text": [
            "2\n",
            "0\n",
            "1\n"
          ],
          "name": "stdout"
        }
      ]
    },
    {
      "cell_type": "markdown",
      "metadata": {
        "id": "Il50mSIv_M_2"
      },
      "source": [
        "- 숫자 쌍을 원소로 갖는 리스트(num_pair_list)를 입력 받아서, 나머지 연산을 해서 함께 출력하는 cal_paris_modulo 함수를 정의한다.\n",
        "\n",
        "    1) 숫자 쌍의 값들에 대한 나머지를 구해서, result 딕셔너리의 원소로 추가한다. 이때, 숫자 쌍(투플)이 키가 된다.\n",
        "    \n",
        "    2)for 반복문으로 함수가 반환하는 나머지를 modulo 변수에 저장하고, 화면에 반복해서 출력한다.\n",
        "\n",
        "-  num_paris 리스트를 cal_paris_modulo 함수에 입력한다. 함수가 반환하는 값을 mod_pairs 변수에 저장하고 출력한다. "
      ]
    },
    {
      "cell_type": "code",
      "metadata": {
        "id": "l8FRcJwjLphQ",
        "outputId": "ed3e83f9-0178-47a1-b987-69749a47cf13",
        "colab": {
          "base_uri": "https://localhost:8080/",
          "height": 34
        }
      },
      "source": [
        "def cal_pairs_modulo(num_pair_list):\n",
        "    result = {}\n",
        "    for a, b in num_pair_list:\n",
        "        modulo = cal_modulo(a, b)\n",
        "        result[(a,b)] = modulo\n",
        "    return result\n",
        "\n",
        "mod_pairs = cal_pairs_modulo(num_pairs)\n",
        "mod_pairs"
      ],
      "execution_count": null,
      "outputs": [
        {
          "output_type": "execute_result",
          "data": {
            "text/plain": [
              "{(2, 2): 0, (5, 3): 2, (10, 3): 1}"
            ]
          },
          "metadata": {
            "tags": []
          },
          "execution_count": 5
        }
      ]
    },
    {
      "cell_type": "markdown",
      "metadata": {
        "id": "82jA0RjC1xlI"
      },
      "source": [
        "-  num_paris 리스트를 cal_paris_modulo 함수에 입력하고, 함수가 반환하는 값을 화면에 출력하는 함수를 정의한다. 그리고 함수를 실행한다.  "
      ]
    },
    {
      "cell_type": "code",
      "metadata": {
        "id": "Cy1foK9qOOyx",
        "outputId": "0fbef756-c7ae-4fda-da91-6051dfdc5b70",
        "colab": {
          "base_uri": "https://localhost:8080/",
          "height": 34
        }
      },
      "source": [
        "def print_mod_pairs():\n",
        "    print(cal_pairs_modulo(num_pairs))\n",
        "\n",
        "print_mod_pairs()"
      ],
      "execution_count": null,
      "outputs": [
        {
          "output_type": "stream",
          "text": [
            "{(5, 3): 2, (2, 2): 0, (10, 3): 1}\n"
          ],
          "name": "stdout"
        }
      ]
    },
    {
      "cell_type": "markdown",
      "metadata": {
        "id": "P3sxHBUB3nBr"
      },
      "source": [
        "- cal_pairs_modulo 함수를 정의할 때 사용한 지역변수 result 값을 출력해 본다."
      ]
    },
    {
      "cell_type": "code",
      "metadata": {
        "id": "A5T0taolLyM6",
        "outputId": "2e4c3fd2-36fa-4402-edcb-b56fc2399c71",
        "colab": {
          "base_uri": "https://localhost:8080/",
          "height": 169
        }
      },
      "source": [
        "result"
      ],
      "execution_count": null,
      "outputs": [
        {
          "output_type": "error",
          "ename": "NameError",
          "evalue": "ignored",
          "traceback": [
            "\u001b[0;31m---------------------------------------------------------------------------\u001b[0m",
            "\u001b[0;31mNameError\u001b[0m                                 Traceback (most recent call last)",
            "\u001b[0;32m<ipython-input-7-0ac921c19f1a>\u001b[0m in \u001b[0;36m<module>\u001b[0;34m()\u001b[0m\n\u001b[0;32m----> 1\u001b[0;31m \u001b[0mresult\u001b[0m\u001b[0;34m\u001b[0m\u001b[0;34m\u001b[0m\u001b[0m\n\u001b[0m",
            "\u001b[0;31mNameError\u001b[0m: name 'result' is not defined"
          ]
        }
      ]
    }
  ]
}