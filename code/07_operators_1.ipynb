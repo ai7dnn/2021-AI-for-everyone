{
  "nbformat": 4,
  "nbformat_minor": 0,
  "metadata": {
    "colab": {
      "name": "07 operators_1.ipynb",
      "provenance": [],
      "collapsed_sections": [],
      "include_colab_link": true
    },
    "kernelspec": {
      "name": "python3",
      "display_name": "Python 3"
    }
  },
  "cells": [
    {
      "cell_type": "markdown",
      "metadata": {
        "id": "view-in-github",
        "colab_type": "text"
      },
      "source": [
        "<a href=\"https://colab.research.google.com/github/ai7dnn/2021-AI-for-everyone/blob/main/code/07_operators_1.ipynb\" target=\"_parent\"><img src=\"https://colab.research.google.com/assets/colab-badge.svg\" alt=\"Open In Colab\"/></a>"
      ]
    },
    {
      "cell_type": "markdown",
      "metadata": {
        "id": "rw16ZBeVGaYv"
      },
      "source": [
        "- 숫자 1과 2를 더한다."
      ]
    },
    {
      "cell_type": "code",
      "metadata": {
        "id": "xBB2REKPBIOB",
        "outputId": "9f27b0a9-d5b7-4485-855a-325469afe01f",
        "colab": {
          "base_uri": "https://localhost:8080/",
          "height": 34
        }
      },
      "source": [
        "1+2"
      ],
      "execution_count": null,
      "outputs": [
        {
          "output_type": "execute_result",
          "data": {
            "text/plain": [
              "3"
            ]
          },
          "metadata": {
            "tags": []
          },
          "execution_count": 1
        }
      ]
    },
    {
      "cell_type": "markdown",
      "metadata": {
        "id": "hSbXM-GeGecc"
      },
      "source": [
        "- 문자열 \"Good\"과 한칸 공백(\" \")과 문자열 \"Morning\"을 이어 붙인다. new_str 변수에 저장한다. ( + 연산자 활용)\n",
        "- new_str 변수를 출련한다. "
      ]
    },
    {
      "cell_type": "code",
      "metadata": {
        "id": "CHCTlT4llwZA",
        "outputId": "b5c7e6a8-781e-4ba5-e5a6-08996f1b594b",
        "colab": {
          "base_uri": "https://localhost:8080/",
          "height": 34
        }
      },
      "source": [
        "new_str = \"Good\" + \" \" + \"Morning\"\n",
        "new_str"
      ],
      "execution_count": null,
      "outputs": [
        {
          "output_type": "execute_result",
          "data": {
            "application/vnd.google.colaboratory.intrinsic+json": {
              "type": "string"
            },
            "text/plain": [
              "'Good Morning'"
            ]
          },
          "metadata": {
            "tags": []
          },
          "execution_count": 2
        }
      ]
    },
    {
      "cell_type": "markdown",
      "metadata": {
        "id": "y5SrX5mZGw39"
      },
      "source": [
        "- 숫자 2에서 3을 뺀다. "
      ]
    },
    {
      "cell_type": "code",
      "metadata": {
        "id": "bhD66hVFusUP",
        "outputId": "a55d7fbd-153b-43b3-8d61-a4182cefe18e",
        "colab": {
          "base_uri": "https://localhost:8080/",
          "height": 34
        }
      },
      "source": [
        "2-3"
      ],
      "execution_count": null,
      "outputs": [
        {
          "output_type": "execute_result",
          "data": {
            "text/plain": [
              "-1"
            ]
          },
          "metadata": {
            "tags": []
          },
          "execution_count": 3
        }
      ]
    },
    {
      "cell_type": "markdown",
      "metadata": {
        "id": "piNIK5qFG0AU"
      },
      "source": [
        "- 숫자 3과 4를 곱한다."
      ]
    },
    {
      "cell_type": "code",
      "metadata": {
        "id": "EiY29AU_vGAC",
        "outputId": "0bd32579-532f-4f6f-8197-6c1c03fe3e85",
        "colab": {
          "base_uri": "https://localhost:8080/",
          "height": 34
        }
      },
      "source": [
        "3*4"
      ],
      "execution_count": null,
      "outputs": [
        {
          "output_type": "execute_result",
          "data": {
            "text/plain": [
              "12"
            ]
          },
          "metadata": {
            "tags": []
          },
          "execution_count": 4
        }
      ]
    },
    {
      "cell_type": "markdown",
      "metadata": {
        "id": "21e8d5fVG240"
      },
      "source": [
        "- 문자열 \"a\"에 3을 곱한다. "
      ]
    },
    {
      "cell_type": "code",
      "metadata": {
        "id": "ju7RmDZtBXFJ",
        "outputId": "f2e79467-83de-4c7b-f02e-bbf9b667ab8d",
        "colab": {
          "base_uri": "https://localhost:8080/",
          "height": 34
        }
      },
      "source": [
        "\"a\" * 3"
      ],
      "execution_count": null,
      "outputs": [
        {
          "output_type": "execute_result",
          "data": {
            "application/vnd.google.colaboratory.intrinsic+json": {
              "type": "string"
            },
            "text/plain": [
              "'aaa'"
            ]
          },
          "metadata": {
            "tags": []
          },
          "execution_count": 5
        }
      ]
    },
    {
      "cell_type": "markdown",
      "metadata": {
        "id": "EPrmQQDDG8Fa"
      },
      "source": [
        "- 숫자 5를 3으로 나눈다."
      ]
    },
    {
      "cell_type": "code",
      "metadata": {
        "id": "67rO7tENvIzh",
        "outputId": "abf2d367-b38d-4ab3-b92c-44c89bc7fd98",
        "colab": {
          "base_uri": "https://localhost:8080/",
          "height": 34
        }
      },
      "source": [
        "5/3"
      ],
      "execution_count": null,
      "outputs": [
        {
          "output_type": "execute_result",
          "data": {
            "text/plain": [
              "1.6666666666666667"
            ]
          },
          "metadata": {
            "tags": []
          },
          "execution_count": 6
        }
      ]
    },
    {
      "cell_type": "markdown",
      "metadata": {
        "id": "_rZh1Gw9G-2W"
      },
      "source": [
        "- 숫자 5를 3으로 나눈 몫을 구한다."
      ]
    },
    {
      "cell_type": "code",
      "metadata": {
        "id": "wEh5zknmvK9X",
        "outputId": "6c69c6f4-4d03-4868-b94c-e45429be2753",
        "colab": {
          "base_uri": "https://localhost:8080/",
          "height": 34
        }
      },
      "source": [
        "5//3"
      ],
      "execution_count": null,
      "outputs": [
        {
          "output_type": "execute_result",
          "data": {
            "text/plain": [
              "1"
            ]
          },
          "metadata": {
            "tags": []
          },
          "execution_count": 7
        }
      ]
    },
    {
      "cell_type": "markdown",
      "metadata": {
        "id": "6sW1YnMLHDNr"
      },
      "source": [
        "- 숫자 5를 3으로 나눈 나머지를 구한다."
      ]
    },
    {
      "cell_type": "code",
      "metadata": {
        "id": "xX5CglRJvMf5",
        "outputId": "37bc37ee-3862-4ab2-d0fd-bbb5f5bb56a5",
        "colab": {
          "base_uri": "https://localhost:8080/",
          "height": 34
        }
      },
      "source": [
        "5%3"
      ],
      "execution_count": null,
      "outputs": [
        {
          "output_type": "execute_result",
          "data": {
            "text/plain": [
              "2"
            ]
          },
          "metadata": {
            "tags": []
          },
          "execution_count": 8
        }
      ]
    },
    {
      "cell_type": "markdown",
      "metadata": {
        "id": "4g1wvvgdHGsa"
      },
      "source": [
        "- 숫자 3의 거듭제곱을 구한다."
      ]
    },
    {
      "cell_type": "code",
      "metadata": {
        "id": "D_8RR_hriDaF",
        "outputId": "0f0141f9-e07e-4a44-8594-9a028e73bd90",
        "colab": {
          "base_uri": "https://localhost:8080/",
          "height": 34
        }
      },
      "source": [
        "3**2"
      ],
      "execution_count": null,
      "outputs": [
        {
          "output_type": "execute_result",
          "data": {
            "text/plain": [
              "9"
            ]
          },
          "metadata": {
            "tags": []
          },
          "execution_count": 9
        }
      ]
    }
  ]
}