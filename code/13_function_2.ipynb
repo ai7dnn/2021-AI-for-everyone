{
  "nbformat": 4,
  "nbformat_minor": 0,
  "metadata": {
    "colab": {
      "name": "13 function_2.ipynb",
      "provenance": [],
      "collapsed_sections": [],
      "include_colab_link": true
    },
    "kernelspec": {
      "name": "python3",
      "display_name": "Python 3"
    }
  },
  "cells": [
    {
      "cell_type": "markdown",
      "metadata": {
        "id": "view-in-github",
        "colab_type": "text"
      },
      "source": [
        "<a href=\"https://colab.research.google.com/github/ai7dnn/2021-AI-for-everyone/blob/main/code/13_function_2.ipynb\" target=\"_parent\"><img src=\"https://colab.research.google.com/assets/colab-badge.svg\" alt=\"Open In Colab\"/></a>"
      ]
    },
    {
      "cell_type": "markdown",
      "metadata": {
        "id": "MPJdBEPDF4nP"
      },
      "source": [
        "- add_one 함수 정의 (숫자를 입력받아서 1을 더한 값을 반환)"
      ]
    },
    {
      "cell_type": "code",
      "metadata": {
        "id": "oorQEIu0LpZ0",
        "outputId": "2d586790-e417-4498-8a53-bfb1a7676738",
        "colab": {
          "base_uri": "https://localhost:8080/",
          "height": 34
        }
      },
      "source": [
        "def add_one(num):\n",
        "    return num + 1\n",
        "\n",
        "answer = add_one(1)\n",
        "print(answer)"
      ],
      "execution_count": null,
      "outputs": [
        {
          "output_type": "stream",
          "text": [
            "2\n"
          ],
          "name": "stdout"
        }
      ]
    },
    {
      "cell_type": "markdown",
      "metadata": {
        "id": "ER2qeLpbGChG"
      },
      "source": [
        "- 숫자 리스트의 원소에 각각 1을 더하기 (add_one 함수 사용)"
      ]
    },
    {
      "cell_type": "code",
      "metadata": {
        "id": "gAAwsjWglovU",
        "outputId": "648ded76-49b7-44f0-a14d-5085f8d0b6ea",
        "colab": {
          "base_uri": "https://localhost:8080/",
          "height": 34
        }
      },
      "source": [
        "add_one_list = []\n",
        "for x in [1, 2, 3]:\n",
        "    y = add_one(x)\n",
        "    add_one_list.append(y)\n",
        "\n",
        "print(add_one_list)"
      ],
      "execution_count": null,
      "outputs": [
        {
          "output_type": "stream",
          "text": [
            "[2, 3, 4]\n"
          ],
          "name": "stdout"
        }
      ]
    },
    {
      "cell_type": "markdown",
      "metadata": {
        "id": "D2UM4lHdGYh_"
      },
      "source": [
        "- 숫자 리스트의 원소에 각각 1을 더하기 (lambda 함수 사용)"
      ]
    },
    {
      "cell_type": "code",
      "metadata": {
        "id": "A5T0taolLyM6",
        "outputId": "4e3f4d7c-a5fc-4920-d4db-c99e36a61465",
        "colab": {
          "base_uri": "https://localhost:8080/",
          "height": 34
        }
      },
      "source": [
        "add_one_lambda = []\n",
        "add_func = lambda x: add_one_lambda.append(x+1)\n",
        "for x in [1, 2, 3]:\n",
        "    add_func(x)\n",
        "\n",
        "print(add_one_lambda)"
      ],
      "execution_count": null,
      "outputs": [
        {
          "output_type": "stream",
          "text": [
            "[2, 3, 4]\n"
          ],
          "name": "stdout"
        }
      ]
    },
    {
      "cell_type": "markdown",
      "metadata": {
        "id": "W5uOVt7SGrDn"
      },
      "source": [
        "- 두 숫자를 더하는 lambda 함수 만들기"
      ]
    },
    {
      "cell_type": "code",
      "metadata": {
        "id": "sQ72weMFmNeE",
        "outputId": "db751b13-2310-4fea-d38a-b1541407b26e",
        "colab": {
          "base_uri": "https://localhost:8080/",
          "height": 34
        }
      },
      "source": [
        "new_add_func = lambda x, y: x+y\n",
        "answer = new_add_func(2, 3)\n",
        "print(answer)"
      ],
      "execution_count": null,
      "outputs": [
        {
          "output_type": "stream",
          "text": [
            "5\n"
          ],
          "name": "stdout"
        }
      ]
    }
  ]
}