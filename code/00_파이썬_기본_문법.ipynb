{
  "nbformat": 4,
  "nbformat_minor": 0,
  "metadata": {
    "kernelspec": {
      "display_name": "Python 3",
      "language": "python",
      "name": "python3"
    },
    "language_info": {
      "codemirror_mode": {
        "name": "ipython",
        "version": 3
      },
      "file_extension": ".py",
      "mimetype": "text/x-python",
      "name": "python",
      "nbconvert_exporter": "python",
      "pygments_lexer": "ipython3",
      "version": "3.5.2"
    },
    "colab": {
      "name": "00 파이썬 기본 문법.ipynb",
      "provenance": [],
      "include_colab_link": true
    }
  },
  "cells": [
    {
      "cell_type": "markdown",
      "metadata": {
        "id": "view-in-github",
        "colab_type": "text"
      },
      "source": [
        "<a href=\"https://colab.research.google.com/github/ai7dnn/2021-AI-for-everyone/blob/main/code/00_%ED%8C%8C%EC%9D%B4%EC%8D%AC_%EA%B8%B0%EB%B3%B8_%EB%AC%B8%EB%B2%95.ipynb\" target=\"_parent\"><img src=\"https://colab.research.google.com/assets/colab-badge.svg\" alt=\"Open In Colab\"/></a>"
      ]
    },
    {
      "cell_type": "markdown",
      "metadata": {
        "id": "e-j8Zw5GI-t8"
      },
      "source": [
        "# 1 세미콜론\n",
        "\n",
        "### 프로그래밍 언어들은 구문이 끝날 때 ;(세미콜론)을 붙여야 합니다.\n",
        "\n",
        "### 파이썬은 세미콜론을 붙이지 않아도 됨\n",
        "\n"
      ]
    },
    {
      "cell_type": "code",
      "metadata": {
        "id": "LnuuTzmYI-t9",
        "outputId": "fcbfadda-f61e-40f7-ea2a-df29679057d7",
        "colab": {
          "base_uri": "https://localhost:8080/"
        }
      },
      "source": [
        "print('Hello, world!')\n"
      ],
      "execution_count": null,
      "outputs": [
        {
          "output_type": "stream",
          "text": [
            "Hello, world!\n"
          ],
          "name": "stdout"
        }
      ]
    },
    {
      "cell_type": "code",
      "metadata": {
        "id": "yGq6R6g6I-t-",
        "outputId": "6ad324f9-cf87-419d-e308-33c15023f81d",
        "colab": {
          "base_uri": "https://localhost:8080/"
        }
      },
      "source": [
        "print('Hello, world');"
      ],
      "execution_count": null,
      "outputs": [
        {
          "output_type": "stream",
          "text": [
            "Hello, world\n"
          ],
          "name": "stdout"
        }
      ]
    },
    {
      "cell_type": "markdown",
      "metadata": {
        "id": "xR73wv8zI-t_"
      },
      "source": [
        "### 여러 구분을 사용할 때 세미콜론으로 구분"
      ]
    },
    {
      "cell_type": "code",
      "metadata": {
        "id": "KAvK1x8cI-t_",
        "outputId": "93a183ae-561e-4c78-9b36-dc531c48bfb8",
        "colab": {
          "base_uri": "https://localhost:8080/"
        }
      },
      "source": [
        "print('Hello!'); print('JeongSook')"
      ],
      "execution_count": null,
      "outputs": [
        {
          "output_type": "stream",
          "text": [
            "Hello!\n",
            "JeongSook\n"
          ],
          "name": "stdout"
        }
      ]
    },
    {
      "cell_type": "markdown",
      "metadata": {
        "id": "G8exKsySI-t_"
      },
      "source": [
        "# 2 주석\n",
        "### 주석은 프로그램의 실행에 영향을 주지 않습니다.\n",
        "### 한 줄 주석과 범위 주석 두 가지가 있는데,,\n",
        "\n",
        "### 한줄 주석"
      ]
    },
    {
      "cell_type": "code",
      "metadata": {
        "id": "qwUjPsvMI-uA",
        "outputId": "ec733d97-a811-461b-fe39-944cea5dad79",
        "colab": {
          "base_uri": "https://localhost:8080/"
        }
      },
      "source": [
        "print('Hello, world')  #한글 주석"
      ],
      "execution_count": null,
      "outputs": [
        {
          "output_type": "stream",
          "text": [
            "Hello, world\n"
          ],
          "name": "stdout"
        }
      ]
    },
    {
      "cell_type": "code",
      "metadata": {
        "id": "_8HmaVndI-uA"
      },
      "source": [
        "# print('Hello, world')\n",
        "# 블록 주석을 작성할 때는 코드를 읽기 쉽도록 # 뒤에 공백을 한 칸 띄웁니다."
      ],
      "execution_count": null,
      "outputs": []
    },
    {
      "cell_type": "markdown",
      "metadata": {
        "id": "jgtqOdf_I-uA"
      },
      "source": [
        "# 3 들여쓰기"
      ]
    },
    {
      "cell_type": "markdown",
      "metadata": {
        "id": "mBumLAFxI-uA"
      },
      "source": [
        "### if의 다음줄은 항상 들여쓰기를 해야 합니다. (안 하면 문법 에러남)\n",
        "### 들여쓰기는 공백 2칸, 4칸, 탭(tab)등 여러가지 방법"
      ]
    },
    {
      "cell_type": "code",
      "metadata": {
        "id": "r8WiFws-I-uB",
        "outputId": "13e82cf8-d1c6-4c5f-ec91-193809ec6e57",
        "colab": {
          "base_uri": "https://localhost:8080/"
        }
      },
      "source": [
        "a=10\n",
        "if a == 10:\n",
        "    print('a는 10입니다.')\n",
        "else:\n",
        "    print('a는 10 아닙니다.')"
      ],
      "execution_count": null,
      "outputs": [
        {
          "output_type": "stream",
          "text": [
            "a는 10입니다.\n"
          ],
          "name": "stdout"
        }
      ]
    },
    {
      "cell_type": "code",
      "metadata": {
        "id": "uSjKZfNII-uB",
        "outputId": "b298d39d-3978-4d45-9807-90561ebd7ed7",
        "colab": {
          "base_uri": "https://localhost:8080/"
        }
      },
      "source": [
        "a=10\n",
        "if a == 8:\n",
        "    print('a는 10입니다.')\n",
        "else:\n",
        "    print('a는 10 아닙니다.')"
      ],
      "execution_count": null,
      "outputs": [
        {
          "output_type": "stream",
          "text": [
            "a는 10 아닙니다.\n"
          ],
          "name": "stdout"
        }
      ]
    },
    {
      "cell_type": "markdown",
      "metadata": {
        "id": "x0ceo0JcI-uB"
      },
      "source": [
        "# 4 코드 블록\n",
        "### 같은 블록은 들여쓰기 칸 수가 같아야 하고 , 공백과 탭 섞어 쓰면 안 됩니다."
      ]
    },
    {
      "cell_type": "code",
      "metadata": {
        "id": "JaZmlm9MI-uB",
        "outputId": "be178fc9-3f1e-4b61-f441-7c16c88e5bde",
        "colab": {
          "base_uri": "https://localhost:8080/"
        }
      },
      "source": [
        "a=10\n",
        "if a == 10:\n",
        "    print('a는')\n",
        "    print('10입니다.')\n"
      ],
      "execution_count": null,
      "outputs": [
        {
          "output_type": "stream",
          "text": [
            "a는\n",
            "10입니다.\n"
          ],
          "name": "stdout"
        }
      ]
    },
    {
      "cell_type": "code",
      "metadata": {
        "id": "MDqZPLh8I-uC"
      },
      "source": [
        ""
      ],
      "execution_count": null,
      "outputs": []
    }
  ]
}