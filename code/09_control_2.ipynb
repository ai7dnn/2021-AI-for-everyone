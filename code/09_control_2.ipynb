{
  "nbformat": 4,
  "nbformat_minor": 0,
  "metadata": {
    "colab": {
      "name": "09 control_2.ipynb",
      "provenance": [],
      "collapsed_sections": [],
      "include_colab_link": true
    },
    "kernelspec": {
      "name": "python3",
      "display_name": "Python 3"
    }
  },
  "cells": [
    {
      "cell_type": "markdown",
      "metadata": {
        "id": "view-in-github",
        "colab_type": "text"
      },
      "source": [
        "<a href=\"https://colab.research.google.com/github/ai7dnn/2021-AI-for-everyone/blob/main/code/09_control_2.ipynb\" target=\"_parent\"><img src=\"https://colab.research.google.com/assets/colab-badge.svg\" alt=\"Open In Colab\"/></a>"
      ]
    },
    {
      "cell_type": "markdown",
      "metadata": {
        "id": "lbFLJT-e2hL_"
      },
      "source": [
        "- for 반복문: num_list의 원소를 반복해서 출력한다"
      ]
    },
    {
      "cell_type": "code",
      "metadata": {
        "id": "6yd-tGBV4neY",
        "outputId": "6484d44d-8deb-436e-9317-c8cbd93536ca",
        "colab": {
          "base_uri": "https://localhost:8080/",
          "height": 70
        }
      },
      "source": [
        "num_list = [1, 2, 3]\n",
        "for num in num_list:\n",
        "    print(num)"
      ],
      "execution_count": null,
      "outputs": [
        {
          "output_type": "stream",
          "text": [
            "1\n",
            "2\n",
            "3\n"
          ],
          "name": "stdout"
        }
      ]
    },
    {
      "cell_type": "markdown",
      "metadata": {
        "id": "c4eD6cqq2rCq"
      },
      "source": [
        "- for 반복문: 리스트의 원소를 반복해서 2의 배수와 함께 출력한다."
      ]
    },
    {
      "cell_type": "code",
      "metadata": {
        "id": "xBB2REKPBIOB",
        "outputId": "53eb958c-71a1-4089-b61e-da36b32c75c8",
        "colab": {
          "base_uri": "https://localhost:8080/",
          "height": 228
        }
      },
      "source": [
        "for num in [1, 2, 3]:\n",
        "    print(\"기존: \", num)\n",
        "    print(\"2배: \", num * 2)\n",
        "    print(\"\\n\")            "
      ],
      "execution_count": null,
      "outputs": [
        {
          "output_type": "stream",
          "text": [
            "기존:  1\n",
            "2배:  2\n",
            "\n",
            "\n",
            "기존:  2\n",
            "2배:  4\n",
            "\n",
            "\n",
            "기존:  3\n",
            "2배:  6\n",
            "\n",
            "\n"
          ],
          "name": "stdout"
        }
      ]
    },
    {
      "cell_type": "markdown",
      "metadata": {
        "id": "vXi4epuk3deJ"
      },
      "source": [
        "- for 반복문: 리스트의 원소를 반복해서 2의 배수를 계산하고, 빈 리스트(double)에 2의 배수를 원소로 추가한다"
      ]
    },
    {
      "cell_type": "code",
      "metadata": {
        "id": "CHCTlT4llwZA",
        "outputId": "15902b1f-4e59-4d73-9666-6da8cd010958",
        "colab": {
          "base_uri": "https://localhost:8080/",
          "height": 34
        }
      },
      "source": [
        "double = []\n",
        "for num in [1, 2, 3]:\n",
        "    double.append(num * 2)\n",
        "\n",
        "print(double)            "
      ],
      "execution_count": null,
      "outputs": [
        {
          "output_type": "stream",
          "text": [
            "[2, 4, 6]\n"
          ],
          "name": "stdout"
        }
      ]
    }
  ]
}