{
  "nbformat": 4,
  "nbformat_minor": 0,
  "metadata": {
    "colab": {
      "name": "10 control_3.ipynb",
      "provenance": [],
      "collapsed_sections": [],
      "include_colab_link": true
    },
    "kernelspec": {
      "name": "python3",
      "display_name": "Python 3"
    }
  },
  "cells": [
    {
      "cell_type": "markdown",
      "metadata": {
        "id": "view-in-github",
        "colab_type": "text"
      },
      "source": [
        "<a href=\"https://colab.research.google.com/github/ai7dnn/2021-AI-for-everyone/blob/main/code/10_control_3.ipynb\" target=\"_parent\"><img src=\"https://colab.research.google.com/assets/colab-badge.svg\" alt=\"Open In Colab\"/></a>"
      ]
    },
    {
      "cell_type": "markdown",
      "metadata": {
        "id": "KZPppArX4pn6"
      },
      "source": [
        "- while 반복문: 조건식(num 변수의 값이 4보다 작다)을 만족하는 경우, 반복해서 num을 출력하고 num에 1을 더한다."
      ]
    },
    {
      "cell_type": "code",
      "metadata": {
        "id": "6yd-tGBV4neY",
        "outputId": "3874b64d-3f6a-4a77-9de6-924d0d8019f9",
        "colab": {
          "base_uri": "https://localhost:8080/",
          "height": 70
        }
      },
      "source": [
        "num = 1\n",
        "while num < 4:\n",
        "    print(num)\n",
        "    num = num + 1"
      ],
      "execution_count": null,
      "outputs": [
        {
          "output_type": "stream",
          "text": [
            "1\n",
            "2\n",
            "3\n"
          ],
          "name": "stdout"
        }
      ]
    },
    {
      "cell_type": "markdown",
      "metadata": {
        "id": "GKq23Kau460k"
      },
      "source": [
        "- while 반복문: 조건식(num 변수의 값이 4보다 작다)을 만족하는 경우, 반복해서 num과 2의 배수를 출력하고 num에 1을 더한다."
      ]
    },
    {
      "cell_type": "code",
      "metadata": {
        "id": "imG02c0fWzoh",
        "outputId": "2ccc0f42-35e0-4400-b69b-aa27d8f56f1d",
        "colab": {
          "base_uri": "https://localhost:8080/",
          "height": 228
        }
      },
      "source": [
        "num = 1\n",
        "while num < 4:\n",
        "    print(\"기존: \", num)\n",
        "    print(\"2배: \", num * 2)\n",
        "    print(\"\\n\")    \n",
        "    num += 1"
      ],
      "execution_count": null,
      "outputs": [
        {
          "output_type": "stream",
          "text": [
            "기존:  1\n",
            "2배:  2\n",
            "\n",
            "\n",
            "기존:  2\n",
            "2배:  4\n",
            "\n",
            "\n",
            "기존:  3\n",
            "2배:  6\n",
            "\n",
            "\n"
          ],
          "name": "stdout"
        }
      ]
    },
    {
      "cell_type": "markdown",
      "metadata": {
        "id": "sk5ed3bB5Dy2"
      },
      "source": [
        "- while True 반복문: 조건식(True)을 항상 만족하기 때문에 계속 반복 실행한다. \n",
        "- num의 2의 배수를 빈 리스트(double)에 추가한다. \n",
        "- break 명령: double의 원소 개수가 3개가 되면 while 반복문을 종료한다. \n",
        "- num에 1을 더한다."
      ]
    },
    {
      "cell_type": "code",
      "metadata": {
        "id": "CHCTlT4llwZA",
        "outputId": "3f25a15f-243b-4e13-d4de-7e0963b78dea",
        "colab": {
          "base_uri": "https://localhost:8080/",
          "height": 34
        }
      },
      "source": [
        "num = 1\n",
        "double = []\n",
        "\n",
        "while True:\n",
        "    double.append(num * 2)    \n",
        "    if len(double) == 3:\n",
        "        break\n",
        "    num += 1\n",
        "\n",
        "print(double)            "
      ],
      "execution_count": null,
      "outputs": [
        {
          "output_type": "stream",
          "text": [
            "[2, 4, 6]\n"
          ],
          "name": "stdout"
        }
      ]
    },
    {
      "cell_type": "markdown",
      "metadata": {
        "id": "qG5-ZBC156oF"
      },
      "source": [
        "## 로또 번호 만들기"
      ]
    },
    {
      "cell_type": "markdown",
      "metadata": {
        "id": "b6Yf_a7h5izc"
      },
      "source": [
        "- range 함수로 1 ~ 45까지 정수를 원소로 갖는 배열을 만든다. \n",
        "- list 함수로 배열을 리스트로 변환한다.\n",
        "- 변환된 리스트를 출력한다."
      ]
    },
    {
      "cell_type": "code",
      "metadata": {
        "id": "Uux0ebCeYItj",
        "outputId": "c60f6b9e-767e-4bcb-c1e4-22d8b67c665a",
        "colab": {
          "base_uri": "https://localhost:8080/",
          "height": 54
        }
      },
      "source": [
        "num_range = range(1, 46)\n",
        "num_list = list(num_range)\n",
        "print(num_list)"
      ],
      "execution_count": null,
      "outputs": [
        {
          "output_type": "stream",
          "text": [
            "[1, 2, 3, 4, 5, 6, 7, 8, 9, 10, 11, 12, 13, 14, 15, 16, 17, 18, 19, 20, 21, 22, 23, 24, 25, 26, 27, 28, 29, 30, 31, 32, 33, 34, 35, 36, 37, 38, 39, 40, 41, 42, 43, 44, 45]\n"
          ],
          "name": "stdout"
        }
      ]
    },
    {
      "cell_type": "markdown",
      "metadata": {
        "id": "igLWj-uj6BLP"
      },
      "source": [
        "- 리스트 안에 들어 있는 45개 숫자의 순서를 임의로 섞는다. (random 모듈의 shuffle 함수 사용)\n",
        "- 순서가 바뀐 리스트 객체를 출력한다. "
      ]
    },
    {
      "cell_type": "code",
      "metadata": {
        "id": "4kAr9VsIi8qU",
        "outputId": "59e272e2-41dd-4560-fcec-4b92797b6db8",
        "colab": {
          "base_uri": "https://localhost:8080/",
          "height": 54
        }
      },
      "source": [
        "import random\n",
        "random.shuffle(num_list)\n",
        "print(num_list)"
      ],
      "execution_count": null,
      "outputs": [
        {
          "output_type": "stream",
          "text": [
            "[4, 17, 6, 45, 1, 36, 44, 26, 31, 23, 37, 12, 29, 42, 8, 9, 14, 27, 32, 16, 18, 2, 24, 13, 35, 19, 40, 10, 43, 7, 20, 30, 39, 41, 5, 21, 28, 33, 25, 34, 22, 38, 11, 3, 15]\n"
          ],
          "name": "stdout"
        }
      ]
    },
    {
      "cell_type": "markdown",
      "metadata": {
        "id": "QH5YxewR6WH0"
      },
      "source": [
        "- 6개 번호를 담을 빈 리스트(lotto)를 만든다. \n",
        "- lotto 리스트의 원소 개수가 6개 미만일 때 while 반복문을 실행한다. \n",
        "- 45개 숫자 리스트의 순서를 shuffle 함수로 섞어 준다. 가장 앞에 위치한 원소를 추출하고 num_selected 변수에 저장한다.\n",
        "- if 조건문으로 추출한 숫자(num_selected)가 lotto 리스트에 들어 있는지 체크한다. 이미 추출한 숫자라면, 나머지 명령을 실행하지 않고 while 반복문의 처음으로 돌아가서 실행한다. \n",
        "- if 조건문을 충족하지 않는 경우, 즉 기존에 추출된 숫자가 아니라면 lotto 리스트의 원소로 추가한다. (append 활용)\n",
        "- 새로 추출한 숫자를 출력한다. (print 함수)\n",
        "- while 반복문이 종료되면 lotto 리스트를 출력한다. (6개 숫자 확인)"
      ]
    },
    {
      "cell_type": "code",
      "metadata": {
        "id": "bhD66hVFusUP",
        "outputId": "d659c903-39cd-47c6-dd6e-b24f3d930681",
        "colab": {
          "base_uri": "https://localhost:8080/",
          "height": 140
        }
      },
      "source": [
        "lotto = []\n",
        "while len(lotto) < 6:\n",
        "    random.shuffle(num_list)\n",
        "    num_selected = num_list[0]\n",
        "    if num_selected in lotto:\n",
        "        continue\n",
        "    lotto.append(num_selected)  \n",
        "    print(num_selected)\n",
        "\n",
        "print(lotto)         "
      ],
      "execution_count": null,
      "outputs": [
        {
          "output_type": "stream",
          "text": [
            "20\n",
            "4\n",
            "16\n",
            "14\n",
            "18\n",
            "31\n",
            "[20, 4, 16, 14, 18, 31]\n"
          ],
          "name": "stdout"
        }
      ]
    }
  ]
}