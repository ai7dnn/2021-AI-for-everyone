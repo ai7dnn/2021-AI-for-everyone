{
  "nbformat": 4,
  "nbformat_minor": 0,
  "metadata": {
    "colab": {
      "name": "04 data_types_2.ipynb",
      "provenance": [],
      "collapsed_sections": [],
      "include_colab_link": true
    },
    "kernelspec": {
      "name": "python3",
      "display_name": "Python 3"
    }
  },
  "cells": [
    {
      "cell_type": "markdown",
      "metadata": {
        "id": "view-in-github",
        "colab_type": "text"
      },
      "source": [
        "<a href=\"https://colab.research.google.com/github/ai7dnn/2021-AI-for-everyone/blob/main/code/04_data_types_2.ipynb\" target=\"_parent\"><img src=\"https://colab.research.google.com/assets/colab-badge.svg\" alt=\"Open In Colab\"/></a>"
      ]
    },
    {
      "cell_type": "markdown",
      "metadata": {
        "id": "TRJGZ4RCzRco"
      },
      "source": [
        "- \"Easy\" 문자열을 str1 변수에 입력한다.\n",
        "- str1 변수이름을 입력한다."
      ]
    },
    {
      "cell_type": "code",
      "metadata": {
        "id": "hofHF1Y0xPTq",
        "colab": {
          "base_uri": "https://localhost:8080/",
          "height": 36
        },
        "outputId": "bc618cec-662f-4ce4-8229-37124d5bfb62"
      },
      "source": [
        "str1 = \"Easy\"\n",
        "str1"
      ],
      "execution_count": null,
      "outputs": [
        {
          "output_type": "execute_result",
          "data": {
            "application/vnd.google.colaboratory.intrinsic+json": {
              "type": "string"
            },
            "text/plain": [
              "'Easy'"
            ]
          },
          "metadata": {},
          "execution_count": 1
        }
      ]
    },
    {
      "cell_type": "markdown",
      "metadata": {
        "id": "yhzKthEU2jUT"
      },
      "source": [
        "- str1 변수의 자료형을 확인한다. type 함수의 리턴값을 print 함수로 출력한다. "
      ]
    },
    {
      "cell_type": "code",
      "metadata": {
        "id": "s1IzJo-_2NNM",
        "colab": {
          "base_uri": "https://localhost:8080/"
        },
        "outputId": "f15b1003-0dd0-4599-8b8f-be115ed14937"
      },
      "source": [
        "print(type(str1))"
      ],
      "execution_count": null,
      "outputs": [
        {
          "output_type": "stream",
          "name": "stdout",
          "text": [
            "<class 'str'>\n"
          ]
        }
      ]
    },
    {
      "cell_type": "markdown",
      "metadata": {
        "id": "YetomM2i2SwQ"
      },
      "source": [
        "- \"파이썬 딥러닝\" 문자열을 str2 변수에 입력한다.\n",
        "- str2 변수의 자료형을 확인한다. type 함수의 리턴값을 print 함수로 출력한다. "
      ]
    },
    {
      "cell_type": "code",
      "metadata": {
        "id": "mBDIk0t847-R",
        "colab": {
          "base_uri": "https://localhost:8080/"
        },
        "outputId": "2ac834aa-2f8c-4787-d281-69d6c5324967"
      },
      "source": [
        "str2 = '파이썬 딥러닝'\n",
        "print(str2)"
      ],
      "execution_count": null,
      "outputs": [
        {
          "output_type": "stream",
          "name": "stdout",
          "text": [
            "파이썬 딥러닝\n"
          ]
        }
      ]
    },
    {
      "cell_type": "markdown",
      "metadata": {
        "id": "jlKQLfTZ5_Qb"
      },
      "source": [
        "- \"ver1.0\" 문자열을 str3 변수에 입력한다.\n",
        "- str3 변수의 자료형을 확인한다. type 함수의 리턴값을 print 함수로 출력한다. "
      ]
    },
    {
      "cell_type": "code",
      "metadata": {
        "id": "7xfDhapT2HtH",
        "colab": {
          "base_uri": "https://localhost:8080/"
        },
        "outputId": "e4869088-462c-4f4e-f325-9506d17a15c5"
      },
      "source": [
        "str3 = 'ver1.0'\n",
        "print(type(str3))"
      ],
      "execution_count": null,
      "outputs": [
        {
          "output_type": "stream",
          "name": "stdout",
          "text": [
            "<class 'str'>\n"
          ]
        }
      ]
    },
    {
      "cell_type": "markdown",
      "metadata": {
        "id": "6w_6KoHbzwhN"
      },
      "source": [
        "- str1 변수가 저장하고 있는 데이터의 크기(길이)를 len 함수로 확인한다."
      ]
    },
    {
      "cell_type": "code",
      "metadata": {
        "id": "lxLcP8m0n-cC",
        "colab": {
          "base_uri": "https://localhost:8080/"
        },
        "outputId": "168b6b00-4ad5-4323-8574-bc9fd00d6486"
      },
      "source": [
        "len(str1)"
      ],
      "execution_count": null,
      "outputs": [
        {
          "output_type": "execute_result",
          "data": {
            "text/plain": [
              "4"
            ]
          },
          "metadata": {},
          "execution_count": 5
        }
      ]
    },
    {
      "cell_type": "markdown",
      "metadata": {
        "id": "fb_f23u9z7r-"
      },
      "source": [
        "- str1 변수의 값인 \"Easy\" 문자열의 첫번째 문자를 인덱싱 추출한다."
      ]
    },
    {
      "cell_type": "code",
      "metadata": {
        "id": "chbBoqt8ofIa",
        "colab": {
          "base_uri": "https://localhost:8080/",
          "height": 36
        },
        "outputId": "10d087f2-9990-4013-f2f6-a56d1c22c1cd"
      },
      "source": [
        "str1[0]"
      ],
      "execution_count": null,
      "outputs": [
        {
          "output_type": "execute_result",
          "data": {
            "application/vnd.google.colaboratory.intrinsic+json": {
              "type": "string"
            },
            "text/plain": [
              "'E'"
            ]
          },
          "metadata": {},
          "execution_count": 6
        }
      ]
    },
    {
      "cell_type": "markdown",
      "metadata": {
        "id": "XQBVYVcD0Q9N"
      },
      "source": [
        "- str1 변수의 값인 \"Easy\" 문자열의 4번째 문자를 인덱싱 추출한다."
      ]
    },
    {
      "cell_type": "code",
      "metadata": {
        "id": "SOerUnjIoh9P",
        "colab": {
          "base_uri": "https://localhost:8080/",
          "height": 36
        },
        "outputId": "2085deaa-5055-4b1d-e21c-26d8871c4f23"
      },
      "source": [
        "str1[3]"
      ],
      "execution_count": null,
      "outputs": [
        {
          "output_type": "execute_result",
          "data": {
            "application/vnd.google.colaboratory.intrinsic+json": {
              "type": "string"
            },
            "text/plain": [
              "'y'"
            ]
          },
          "metadata": {},
          "execution_count": 7
        }
      ]
    },
    {
      "cell_type": "markdown",
      "metadata": {
        "id": "X9oYOBm70Vw_"
      },
      "source": [
        "- str1 변수의 값인 \"Easy\" 문자열의 마지막 문자를 인덱싱 추출한다."
      ]
    },
    {
      "cell_type": "code",
      "metadata": {
        "id": "pStXh7Yloj7w",
        "colab": {
          "base_uri": "https://localhost:8080/",
          "height": 36
        },
        "outputId": "2a7bd935-c3b1-47d6-b8f7-eb5581d2d237"
      },
      "source": [
        "str1[-1]"
      ],
      "execution_count": null,
      "outputs": [
        {
          "output_type": "execute_result",
          "data": {
            "application/vnd.google.colaboratory.intrinsic+json": {
              "type": "string"
            },
            "text/plain": [
              "'y'"
            ]
          },
          "metadata": {},
          "execution_count": 8
        }
      ]
    },
    {
      "cell_type": "markdown",
      "metadata": {
        "id": "1nqVqioO0Yeu"
      },
      "source": [
        "- str1 변수의 값인 \"Easy\" 문자열의 뒤에서 3번째 문자를 인덱싱 추출한다."
      ]
    },
    {
      "cell_type": "code",
      "metadata": {
        "id": "xE9BhdvbomJL",
        "colab": {
          "base_uri": "https://localhost:8080/",
          "height": 36
        },
        "outputId": "74a73a34-96d5-4754-9016-880b78b720a5"
      },
      "source": [
        "str1[-3]"
      ],
      "execution_count": null,
      "outputs": [
        {
          "output_type": "execute_result",
          "data": {
            "application/vnd.google.colaboratory.intrinsic+json": {
              "type": "string"
            },
            "text/plain": [
              "'a'"
            ]
          },
          "metadata": {},
          "execution_count": 9
        }
      ]
    },
    {
      "cell_type": "markdown",
      "metadata": {
        "id": "4P3AHjq90hL5"
      },
      "source": [
        "- str1 변수의 값인 \"Easy\" 문자열의 1번째 부터 3번째 문자까지 슬라이싱 방법으로 추출한다."
      ]
    },
    {
      "cell_type": "code",
      "metadata": {
        "id": "0yH-nUZXooRq",
        "colab": {
          "base_uri": "https://localhost:8080/",
          "height": 36
        },
        "outputId": "69081fa2-a25d-4b33-a5c6-47fa4bfee4eb"
      },
      "source": [
        "str1[0:3]"
      ],
      "execution_count": null,
      "outputs": [
        {
          "output_type": "execute_result",
          "data": {
            "application/vnd.google.colaboratory.intrinsic+json": {
              "type": "string"
            },
            "text/plain": [
              "'Eas'"
            ]
          },
          "metadata": {},
          "execution_count": 10
        }
      ]
    },
    {
      "cell_type": "markdown",
      "metadata": {
        "id": "TgYUJIve0p9e"
      },
      "source": [
        "- str1 변수의 값인 \"Easy\" 문자열의 뒤에서 3번째 부터 1번째 문자까지 슬라이싱 방법으로 추출한다."
      ]
    },
    {
      "cell_type": "code",
      "metadata": {
        "id": "JZGO6_SEoxBS",
        "colab": {
          "base_uri": "https://localhost:8080/",
          "height": 36
        },
        "outputId": "2b78c11b-75b6-46d3-a205-63fa8ebc2973"
      },
      "source": [
        "str1[-3:-1]"
      ],
      "execution_count": null,
      "outputs": [
        {
          "output_type": "execute_result",
          "data": {
            "application/vnd.google.colaboratory.intrinsic+json": {
              "type": "string"
            },
            "text/plain": [
              "'as'"
            ]
          },
          "metadata": {},
          "execution_count": 11
        }
      ]
    },
    {
      "cell_type": "markdown",
      "metadata": {
        "id": "xZPKH2L80wnd"
      },
      "source": [
        "- str1 변수의 값인 \"Easy\" 문자열의 뒤에서 3번째 문자부터 끝까지 슬라이싱 방법으로 추출한다."
      ]
    },
    {
      "cell_type": "code",
      "metadata": {
        "id": "v257YwPvoy-J",
        "colab": {
          "base_uri": "https://localhost:8080/",
          "height": 36
        },
        "outputId": "b65e9a20-f2e5-4857-9d5b-75dbb9ea9d8f"
      },
      "source": [
        "str1[-3:]"
      ],
      "execution_count": null,
      "outputs": [
        {
          "output_type": "execute_result",
          "data": {
            "application/vnd.google.colaboratory.intrinsic+json": {
              "type": "string"
            },
            "text/plain": [
              "'asy'"
            ]
          },
          "metadata": {},
          "execution_count": 12
        }
      ]
    },
    {
      "cell_type": "markdown",
      "metadata": {
        "id": "qQ-ZHrRG0_AL"
      },
      "source": [
        "- %s 문자열 형식(formatting)을 이용하여 \"파이썬 딥러닝\" 문자열 앞에 \"Easy\" 문자열(str1 변수의 데이터)을 삽입한다. str4 변수에 저장한다. \n",
        "- str4 변수 이름을 입력하고 실행한다. "
      ]
    },
    {
      "cell_type": "code",
      "metadata": {
        "id": "tXImSvIlF9S6",
        "colab": {
          "base_uri": "https://localhost:8080/",
          "height": 34
        },
        "outputId": "9c81ca01-7f0c-4fa1-9d2a-00117b45b9c4"
      },
      "source": [
        "str4 = \"%s 파이썬 딥러닝\" % str1\n",
        "str4"
      ],
      "execution_count": null,
      "outputs": [
        {
          "output_type": "execute_result",
          "data": {
            "application/vnd.google.colaboratory.intrinsic+json": {
              "type": "string"
            },
            "text/plain": [
              "'Easy 파이썬 딥러닝'"
            ]
          },
          "metadata": {
            "tags": []
          },
          "execution_count": 13
        }
      ]
    },
    {
      "cell_type": "code",
      "metadata": {
        "id": "nF-eOFn96xmk"
      },
      "source": [
        ""
      ],
      "execution_count": null,
      "outputs": []
    }
  ]
}