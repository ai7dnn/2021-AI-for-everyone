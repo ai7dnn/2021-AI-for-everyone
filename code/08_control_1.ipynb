{
  "nbformat": 4,
  "nbformat_minor": 0,
  "metadata": {
    "colab": {
      "name": "08 control_1.ipynb",
      "provenance": [],
      "collapsed_sections": [],
      "include_colab_link": true
    },
    "kernelspec": {
      "name": "python3",
      "display_name": "Python 3"
    }
  },
  "cells": [
    {
      "cell_type": "markdown",
      "metadata": {
        "id": "view-in-github",
        "colab_type": "text"
      },
      "source": [
        "<a href=\"https://colab.research.google.com/github/ai7dnn/2021-AI-for-everyone/blob/main/code/08_control_1.ipynb\" target=\"_parent\"><img src=\"https://colab.research.google.com/assets/colab-badge.svg\" alt=\"Open In Colab\"/></a>"
      ]
    },
    {
      "cell_type": "markdown",
      "metadata": {
        "id": "dr-_46w5zrR3"
      },
      "source": [
        "- if 조건문 (조건식: a 변수의 값을 2로 나눈 나머지가 0과 같다)"
      ]
    },
    {
      "cell_type": "code",
      "metadata": {
        "id": "xBB2REKPBIOB",
        "outputId": "01112d18-eb0c-4e13-ada2-840ea6107d88",
        "colab": {
          "base_uri": "https://localhost:8080/",
          "height": 52
        }
      },
      "source": [
        "a = 4\n",
        "if a % 2==0:\n",
        "    print(\"a는 짝수\")\n",
        "    print(\"a는 2의 배수\")    "
      ],
      "execution_count": null,
      "outputs": [
        {
          "output_type": "stream",
          "text": [
            "a는 짝수\n",
            "a는 2의 배수\n"
          ],
          "name": "stdout"
        }
      ]
    },
    {
      "cell_type": "markdown",
      "metadata": {
        "id": "5slS48Xl0b4c"
      },
      "source": [
        "- if 조건문 (조건식: a 변수의 값을 2로 나눈 나머지가 0이 아니다)"
      ]
    },
    {
      "cell_type": "code",
      "metadata": {
        "id": "CHCTlT4llwZA"
      },
      "source": [
        "if a % 2!=0:\n",
        "    print(\"a는 홀수\")"
      ],
      "execution_count": null,
      "outputs": []
    },
    {
      "cell_type": "markdown",
      "metadata": {
        "id": "efpDNKrf0tUh"
      },
      "source": [
        "- if ~ else 조건문 (조건식: b 변수의 값을 2로 나눈 나머지가 0과 같다)"
      ]
    },
    {
      "cell_type": "code",
      "metadata": {
        "id": "bhD66hVFusUP",
        "outputId": "1e7eda66-f9cc-4613-b4f1-d849a4d4db15",
        "colab": {
          "base_uri": "https://localhost:8080/",
          "height": 34
        }
      },
      "source": [
        "b = 7\n",
        "if b % 2==0:\n",
        "    print(\"b는 짝수\")\n",
        "else:\n",
        "    print(\"b는 홀수\")"
      ],
      "execution_count": null,
      "outputs": [
        {
          "output_type": "stream",
          "text": [
            "b는 홀수\n"
          ],
          "name": "stdout"
        }
      ]
    },
    {
      "cell_type": "markdown",
      "metadata": {
        "id": "YpcJtRKT1C9f"
      },
      "source": [
        "- if 조건식: c 변수의 값이 0보다 크다.\n",
        "- elif 조건식: c 변수의 값이 0보다 작다.\n",
        "- else 조건식: 없음 (c 변수의 값이 0이다)\n"
      ]
    },
    {
      "cell_type": "code",
      "metadata": {
        "id": "EiY29AU_vGAC",
        "outputId": "5f8d130e-f8bf-4ab8-91dc-25b69a6757f1",
        "colab": {
          "base_uri": "https://localhost:8080/",
          "height": 34
        }
      },
      "source": [
        "c = -1\n",
        "\n",
        "if c > 0:\n",
        "    print(\"c는 양수\")\n",
        "elif c < 0:\n",
        "    print(\"c는 음수\")  \n",
        "else:\n",
        "    print(\"c는 0\")"
      ],
      "execution_count": null,
      "outputs": [
        {
          "output_type": "stream",
          "text": [
            "c는 음수\n"
          ],
          "name": "stdout"
        }
      ]
    }
  ]
}