{
  "nbformat": 4,
  "nbformat_minor": 0,
  "metadata": {
    "colab": {
      "name": "21-6-mnist-application.ipynb",
      "provenance": [],
      "collapsed_sections": [],
      "include_colab_link": true
    },
    "kernelspec": {
      "name": "python3",
      "display_name": "Python 3"
    }
  },
  "cells": [
    {
      "cell_type": "markdown",
      "metadata": {
        "id": "view-in-github",
        "colab_type": "text"
      },
      "source": [
        "<a href=\"https://colab.research.google.com/github/ai7dnn/2021-AI-for-everyone/blob/main/code/21_6_mnist_application.ipynb\" target=\"_parent\"><img src=\"https://colab.research.google.com/assets/colab-badge.svg\" alt=\"Open In Colab\"/></a>"
      ]
    },
    {
      "cell_type": "code",
      "metadata": {
        "id": "JGJHYKgUVuzu",
        "colab": {
          "base_uri": "https://localhost:8080/",
          "height": 35
        },
        "outputId": "0496347a-78de-48f6-e53a-215057642b32"
      },
      "source": [
        "import tensorflow as tf\n",
        "tf.__version__"
      ],
      "execution_count": 1,
      "outputs": [
        {
          "output_type": "execute_result",
          "data": {
            "application/vnd.google.colaboratory.intrinsic+json": {
              "type": "string"
            },
            "text/plain": [
              "'2.7.0'"
            ]
          },
          "metadata": {},
          "execution_count": 1
        }
      ]
    },
    {
      "cell_type": "markdown",
      "metadata": {
        "id": "T_nmiWKaj0pu"
      },
      "source": [
        "## MNIST 딥러닝 전 소스"
      ]
    },
    {
      "cell_type": "code",
      "metadata": {
        "id": "0OrLMP3OdcI3",
        "colab": {
          "base_uri": "https://localhost:8080/"
        },
        "outputId": "46c0f8df-c006-4cbf-b109-b9033fbb2908"
      },
      "source": [
        "#########################################################\n",
        "import tensorflow as tf\n",
        "\n",
        "mnist = tf.keras.datasets.mnist\n",
        "(x_train, y_train), (x_test, y_test) = mnist.load_data()\n",
        "\n",
        "# 샘플 값을 정수(0~255)에서 부동소수(0~1)로 변환\n",
        "x_train, x_test = x_train / 255.0, x_test / 255.0\n",
        "\n",
        "# 층을 차례대로 쌓아 tf.keras.models.Sequential 모델을 생성\n",
        "model = tf.keras.models.Sequential([\n",
        "    tf.keras.layers.Flatten(input_shape=(28, 28)),\n",
        "    tf.keras.layers.Dense(128, activation='relu'),\n",
        "    tf.keras.layers.Dropout(0.2),\n",
        "    tf.keras.layers.Dense(10, activation='softmax')\n",
        "])\n",
        "\n",
        "# 모델 요약 표시\n",
        "model.summary()\n",
        "\n",
        "# 훈련에 사용할 옵티마이저(optimizer)와 손실 함수, 출력정보를 모델에 설정\n",
        "model.compile(optimizer='adam',\n",
        "              loss='sparse_categorical_crossentropy',\n",
        "              metrics=['accuracy'])\n",
        "              # metrics=['accuracy', 'mse'])\n",
        "\n",
        "# 모델을 훈련 데이터로 총 5번 훈련\n",
        "model.fit(x_train, y_train, epochs=5)\n",
        "\n",
        "# 모델을 테스트 데이터로 평가\n",
        "model.evaluate(x_test, y_test)"
      ],
      "execution_count": 2,
      "outputs": [
        {
          "output_type": "stream",
          "name": "stdout",
          "text": [
            "Downloading data from https://storage.googleapis.com/tensorflow/tf-keras-datasets/mnist.npz\n",
            "11493376/11490434 [==============================] - 0s 0us/step\n",
            "11501568/11490434 [==============================] - 0s 0us/step\n",
            "Model: \"sequential\"\n",
            "_________________________________________________________________\n",
            " Layer (type)                Output Shape              Param #   \n",
            "=================================================================\n",
            " flatten (Flatten)           (None, 784)               0         \n",
            "                                                                 \n",
            " dense (Dense)               (None, 128)               100480    \n",
            "                                                                 \n",
            " dropout (Dropout)           (None, 128)               0         \n",
            "                                                                 \n",
            " dense_1 (Dense)             (None, 10)                1290      \n",
            "                                                                 \n",
            "=================================================================\n",
            "Total params: 101,770\n",
            "Trainable params: 101,770\n",
            "Non-trainable params: 0\n",
            "_________________________________________________________________\n",
            "Epoch 1/5\n",
            "1875/1875 [==============================] - 6s 3ms/step - loss: 0.2902 - accuracy: 0.9145\n",
            "Epoch 2/5\n",
            "1875/1875 [==============================] - 5s 3ms/step - loss: 0.1415 - accuracy: 0.9578\n",
            "Epoch 3/5\n",
            "1875/1875 [==============================] - 5s 2ms/step - loss: 0.1089 - accuracy: 0.9673\n",
            "Epoch 4/5\n",
            "1875/1875 [==============================] - 5s 3ms/step - loss: 0.0873 - accuracy: 0.9729\n",
            "Epoch 5/5\n",
            "1875/1875 [==============================] - 5s 2ms/step - loss: 0.0738 - accuracy: 0.9773\n",
            "313/313 [==============================] - 1s 1ms/step - loss: 0.0726 - accuracy: 0.9767\n"
          ]
        },
        {
          "output_type": "execute_result",
          "data": {
            "text/plain": [
              "[0.0726318284869194, 0.9767000079154968]"
            ]
          },
          "metadata": {},
          "execution_count": 2
        }
      ]
    },
    {
      "cell_type": "markdown",
      "metadata": {
        "id": "LvQ6GKWzGell"
      },
      "source": [
        "# MNIST 손글씨 예측과 오류 확인"
      ]
    },
    {
      "cell_type": "code",
      "metadata": {
        "id": "SpS7lSpI3ARm",
        "colab": {
          "base_uri": "https://localhost:8080/"
        },
        "outputId": "1ebf404b-ff73-4103-d349-cc1bf7159a5c"
      },
      "source": [
        "# 테스트 데이터의 첫 번째 손글씨 예측 결과를 확인\n",
        "print(x_test[:1].shape)\n",
        "\n",
        "pred_result = model.predict(x_test[:1])\n",
        "print(pred_result.shape)\n",
        "print(pred_result)\n",
        "print(pred_result[0])"
      ],
      "execution_count": 3,
      "outputs": [
        {
          "output_type": "stream",
          "name": "stdout",
          "text": [
            "(1, 28, 28)\n",
            "(1, 10)\n",
            "[[2.4639004e-07 7.3223958e-08 6.5451381e-06 6.3548978e-05 6.8673545e-10\n",
            "  3.9436394e-08 9.8970517e-13 9.9990225e-01 1.9655349e-06 2.5282980e-05]]\n",
            "[2.4639004e-07 7.3223958e-08 6.5451381e-06 6.3548978e-05 6.8673545e-10\n",
            " 3.9436394e-08 9.8970517e-13 9.9990225e-01 1.9655349e-06 2.5282980e-05]\n"
          ]
        }
      ]
    },
    {
      "cell_type": "code",
      "metadata": {
        "id": "tN8nz6T0AXY9",
        "colab": {
          "base_uri": "https://localhost:8080/"
        },
        "outputId": "92c571b5-52b9-44e5-dc5c-7381dbfed774"
      },
      "source": [
        "import numpy as np\n",
        "\n",
        "# 10 개의 수를 더하면?\n",
        "one_pred = pred_result[0]\n",
        "print(one_pred.sum())\n",
        "\n",
        "# 혹시 가장 큰 수가 있는 첨자가 결과\n",
        "one = np.argmax(one_pred)\n",
        "print(one)"
      ],
      "execution_count": 4,
      "outputs": [
        {
          "output_type": "stream",
          "name": "stdout",
          "text": [
            "0.99999994\n",
            "7\n"
          ]
        }
      ]
    },
    {
      "cell_type": "code",
      "metadata": {
        "id": "fStn1t8rAs_B",
        "colab": {
          "base_uri": "https://localhost:8080/"
        },
        "outputId": "76a5ba7e-8a62-43d7-debe-1e7238da220d"
      },
      "source": [
        "import numpy as np\n",
        "\n",
        "# 10 개의 수를 더하면?\n",
        "one_pred = pred_result[0]\n",
        "print(tf.reduce_sum(one_pred))\n",
        "print(tf.reduce_sum(one_pred).numpy())\n",
        "\n",
        "# 혹시 가장 큰 수가 있는 첨자가 결과\n",
        "print(tf.argmax(one_pred).numpy())"
      ],
      "execution_count": 5,
      "outputs": [
        {
          "output_type": "stream",
          "name": "stdout",
          "text": [
            "tf.Tensor(0.99999994, shape=(), dtype=float32)\n",
            "0.99999994\n",
            "7\n"
          ]
        }
      ]
    },
    {
      "cell_type": "markdown",
      "source": [
        "## argmax"
      ],
      "metadata": {
        "id": "G2vkZfe05F_O"
      }
    },
    {
      "cell_type": "code",
      "source": [
        "a = np.arange(6).reshape(2,3) + 10\n",
        "a\n"
      ],
      "metadata": {
        "colab": {
          "base_uri": "https://localhost:8080/"
        },
        "id": "XM87vQda5VMo",
        "outputId": "4dbcaa34-0a57-4c63-8c93-c253982fbd06"
      },
      "execution_count": 9,
      "outputs": [
        {
          "output_type": "execute_result",
          "data": {
            "text/plain": [
              "array([[10, 11, 12],\n",
              "       [13, 14, 15]])"
            ]
          },
          "metadata": {},
          "execution_count": 9
        }
      ]
    },
    {
      "cell_type": "code",
      "source": [
        "np.argmax(a)"
      ],
      "metadata": {
        "colab": {
          "base_uri": "https://localhost:8080/"
        },
        "id": "hzaVgtFk5gL4",
        "outputId": "158008db-a6e9-499e-906c-47494c712050"
      },
      "execution_count": 10,
      "outputs": [
        {
          "output_type": "execute_result",
          "data": {
            "text/plain": [
              "5"
            ]
          },
          "metadata": {},
          "execution_count": 10
        }
      ]
    },
    {
      "cell_type": "code",
      "source": [
        "np.argmax(a, axis=0)"
      ],
      "metadata": {
        "colab": {
          "base_uri": "https://localhost:8080/"
        },
        "id": "6lheYRIl5d3C",
        "outputId": "4db9d0a2-e7c1-429b-cffa-3a1f640078b8"
      },
      "execution_count": 12,
      "outputs": [
        {
          "output_type": "execute_result",
          "data": {
            "text/plain": [
              "array([1, 1, 1])"
            ]
          },
          "metadata": {},
          "execution_count": 12
        }
      ]
    },
    {
      "cell_type": "code",
      "source": [
        "np.argmax(a, axis=1)"
      ],
      "metadata": {
        "colab": {
          "base_uri": "https://localhost:8080/"
        },
        "id": "SXeNY6yb5wwH",
        "outputId": "ec2487b0-d20a-4553-e71c-6f8d6b150d9e"
      },
      "execution_count": 13,
      "outputs": [
        {
          "output_type": "execute_result",
          "data": {
            "text/plain": [
              "array([2, 2])"
            ]
          },
          "metadata": {},
          "execution_count": 13
        }
      ]
    },
    {
      "cell_type": "code",
      "source": [
        "ind = np.unravel_index(np.argmax(a, axis=None), a.shape)\n",
        "ind"
      ],
      "metadata": {
        "colab": {
          "base_uri": "https://localhost:8080/"
        },
        "id": "NS6O_r1l6GRQ",
        "outputId": "e0294d22-78cd-45b6-b6c0-9117ddb36387"
      },
      "execution_count": 14,
      "outputs": [
        {
          "output_type": "execute_result",
          "data": {
            "text/plain": [
              "(1, 2)"
            ]
          },
          "metadata": {},
          "execution_count": 14
        }
      ]
    },
    {
      "cell_type": "code",
      "source": [
        "a[ind]"
      ],
      "metadata": {
        "colab": {
          "base_uri": "https://localhost:8080/"
        },
        "id": "CIw8y1Lt6H6R",
        "outputId": "ad7e023f-c19c-4980-ffcd-5e1e29f518a2"
      },
      "execution_count": 16,
      "outputs": [
        {
          "output_type": "execute_result",
          "data": {
            "text/plain": [
              "15"
            ]
          },
          "metadata": {},
          "execution_count": 16
        }
      ]
    },
    {
      "cell_type": "code",
      "source": [
        "b = np.arange(6)\n",
        "b[1] = 5\n",
        "b"
      ],
      "metadata": {
        "colab": {
          "base_uri": "https://localhost:8080/"
        },
        "id": "ug8_K-3u6GK7",
        "outputId": "bc568279-56a9-45fe-a51b-b74f7e3d42db"
      },
      "execution_count": 17,
      "outputs": [
        {
          "output_type": "execute_result",
          "data": {
            "text/plain": [
              "array([0, 5, 2, 3, 4, 5])"
            ]
          },
          "metadata": {},
          "execution_count": 17
        }
      ]
    },
    {
      "cell_type": "code",
      "source": [
        "np.argmax(b)  # Only the first occurrence is returned."
      ],
      "metadata": {
        "colab": {
          "base_uri": "https://localhost:8080/"
        },
        "id": "6SfxfCH9-WST",
        "outputId": "b3e719b3-abe4-485e-d975-5dc3afa97c4a"
      },
      "execution_count": 18,
      "outputs": [
        {
          "output_type": "execute_result",
          "data": {
            "text/plain": [
              "1"
            ]
          },
          "metadata": {},
          "execution_count": 18
        }
      ]
    },
    {
      "cell_type": "code",
      "source": [
        ""
      ],
      "metadata": {
        "id": "QPNwb64s6F_t"
      },
      "execution_count": null,
      "outputs": []
    },
    {
      "cell_type": "markdown",
      "source": [
        "## unravel_index"
      ],
      "metadata": {
        "id": "XbEBT9Hx77Ax"
      }
    },
    {
      "cell_type": "code",
      "source": [
        "np.unravel_index([22, 41, 37], (7,6))"
      ],
      "metadata": {
        "colab": {
          "base_uri": "https://localhost:8080/"
        },
        "id": "Iqa6bPS673xV",
        "outputId": "793f654d-8134-4eb4-c1a4-f8ed5229c8b7"
      },
      "execution_count": 15,
      "outputs": [
        {
          "output_type": "execute_result",
          "data": {
            "text/plain": [
              "(array([3, 6, 6]), array([4, 5, 1]))"
            ]
          },
          "metadata": {},
          "execution_count": 15
        }
      ]
    },
    {
      "cell_type": "markdown",
      "source": [
        "![unravel_index.png](data:image/png;base64,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)"
      ],
      "metadata": {
        "id": "SdAwxTI48eHU"
      }
    },
    {
      "cell_type": "code",
      "metadata": {
        "id": "G7ZWLbPH8I28",
        "colab": {
          "base_uri": "https://localhost:8080/"
        },
        "outputId": "1eb2bb01-d13a-4a0f-d1aa-d3e1db9340bf"
      },
      "source": [
        "import numpy as np\n",
        "\n",
        "###############################################\n",
        "# 원핫 인코딩과 argmax 학습\n",
        "print(np.argmax([5, 4, 10, 1, 2]))\n",
        "print(np.argmax([3, 1, 4, 9, 6, 7, 2]))\n",
        "print(np.argmax([[0.1, 0.8, 0.1], [0.7, 0.2, 0.1], [0.2, 0.1, 0.7]], axis=1))"
      ],
      "execution_count": 6,
      "outputs": [
        {
          "output_type": "stream",
          "name": "stdout",
          "text": [
            "2\n",
            "3\n",
            "[1 0 2]\n"
          ]
        }
      ]
    },
    {
      "cell_type": "code",
      "metadata": {
        "id": "zv1hebn1Czjq",
        "colab": {
          "base_uri": "https://localhost:8080/"
        },
        "outputId": "e640a6f2-0ae8-4cd8-a002-c7fbdfeef81e"
      },
      "source": [
        "import numpy as np\n",
        "\n",
        "###############################################\n",
        "# 원핫 인코딩과 argmax 학습\n",
        "print(tf.argmax([5, 4, 10, 1, 2]).numpy())\n",
        "print(tf.argmax([3, 1, 4, 9, 6, 7, 2]))\n",
        "print(tf.argmax([[0.1, 0.8, 0.1], [0.7, 0.2, 0.1], [0.2, 0.1, 0.7]], axis=1))\n",
        "print(tf.argmax([[0.1, 0.8, 0.1], [0.7, 0.2, 0.1], [0.2, 0.1, 0.7]], axis=1).numpy()[2])"
      ],
      "execution_count": 7,
      "outputs": [
        {
          "output_type": "stream",
          "name": "stdout",
          "text": [
            "2\n",
            "tf.Tensor(3, shape=(), dtype=int64)\n",
            "tf.Tensor([1 0 2], shape=(3,), dtype=int64)\n",
            "2\n"
          ]
        }
      ]
    },
    {
      "cell_type": "code",
      "metadata": {
        "id": "cth_ilrT8HW8",
        "colab": {
          "base_uri": "https://localhost:8080/",
          "height": 265
        },
        "outputId": "0c1e40ed-0149-4996-f36a-eb3b7cb42117"
      },
      "source": [
        "import numpy as np\n",
        "\n",
        "# 10 개의 수를 더하면?\n",
        "one_pred = pred_result[0]\n",
        "print(one_pred.sum())\n",
        "\n",
        "# 혹시 가장 큰 수가 있는 첨자가 결과\n",
        "one = np.argmax(one_pred)\n",
        "print(one)\n",
        "\n",
        "import matplotlib.pyplot as plt\n",
        "\n",
        "plt.figure(figsize=(5, 3))\n",
        "tmp = \"Predict: \" + str(one) + \"  Label: \" + str(y_test[0])\n",
        "plt.title(tmp)\n",
        "_ = plt.imshow(x_test[0], cmap='Greys')"
      ],
      "execution_count": null,
      "outputs": [
        {
          "output_type": "stream",
          "name": "stdout",
          "text": [
            "0.99999994\n",
            "7\n"
          ]
        },
        {
          "output_type": "display_data",
          "data": {
            "image/png": "[encoded data removed]",
            "text/plain": [
              "<Figure size 360x216 with 1 Axes>"
            ]
          },
          "metadata": {
            "needs_background": "light"
          }
        }
      ]
    },
    {
      "cell_type": "code",
      "metadata": {
        "id": "wEdDSYmT8I5p",
        "colab": {
          "base_uri": "https://localhost:8080/"
        },
        "outputId": "97b36e77-2483-474f-fec5-0c4371e1c10d"
      },
      "source": [
        "###############################################\n",
        "# 간단한 자료 처리\n",
        "import numpy as np\n",
        "\n",
        "x = np.array([2, 3, 254, 5, 6, 3])\n",
        "x = x / 255.0\n",
        "print(x)\n",
        "\n",
        "x = x.reshape(2, 3)\n",
        "print(x)\n",
        "\n",
        "x = x.flatten()\n",
        "print(x)"
      ],
      "execution_count": null,
      "outputs": [
        {
          "output_type": "stream",
          "name": "stdout",
          "text": [
            "[0.00784314 0.01176471 0.99607843 0.01960784 0.02352941 0.01176471]\n",
            "[[0.00784314 0.01176471 0.99607843]\n",
            " [0.01960784 0.02352941 0.01176471]]\n",
            "[0.00784314 0.01176471 0.99607843 0.01960784 0.02352941 0.01176471]\n"
          ]
        }
      ]
    },
    {
      "cell_type": "markdown",
      "metadata": {
        "id": "dUqY9sJCEkHg"
      },
      "source": [
        "## 테스트 데이터 모두 예측"
      ]
    },
    {
      "cell_type": "code",
      "metadata": {
        "id": "9i-ms23u3AaP",
        "colab": {
          "base_uri": "https://localhost:8080/"
        },
        "outputId": "19e77483-428b-4560-d6b4-0a691cd634a7"
      },
      "source": [
        "from random import sample\n",
        "import numpy as np\n",
        "\n",
        "# x_test로 직접 결과 처리\n",
        "pred_result = model.predict(x_test)\n",
        "print(pred_result.shape)\n",
        "print(pred_result[0])\n",
        "print(np.argmax(pred_result[0]))\n",
        "\n",
        "# 원핫 인코딩을 일반 데이터로 변환\n",
        "pred_labels = np.argmax(pred_result, axis=1)\n",
        "# 예측한 답 출력\n",
        "print(pred_labels)\n",
        "# 실제 정답 출력\n",
        "print(y_test)\n",
        "###############################################"
      ],
      "execution_count": null,
      "outputs": [
        {
          "output_type": "stream",
          "name": "stdout",
          "text": [
            "(10000, 10)\n",
            "[2.0288745e-07 3.2774004e-09 1.5646949e-05 1.1663710e-03 4.4060347e-10\n",
            " 1.3209518e-07 1.6254188e-14 9.9880815e-01 1.8594585e-06 7.6371034e-06]\n",
            "7\n",
            "[7 2 1 ... 4 5 6]\n",
            "[7 2 1 ... 4 5 6]\n"
          ]
        }
      ]
    },
    {
      "cell_type": "code",
      "metadata": {
        "colab": {
          "base_uri": "https://localhost:8080/"
        },
        "id": "OTUlZH_Q6Ldd",
        "outputId": "e07ffe31-f725-472c-c3c0-aff81863ae28"
      },
      "source": [
        "# 예측한 답 출력\n",
        "print(pred_labels[-10:])\n",
        "# 실제 정답 출력\n",
        "print(y_test[-10:])"
      ],
      "execution_count": null,
      "outputs": [
        {
          "output_type": "stream",
          "name": "stdout",
          "text": [
            "[7 8 9 0 1 2 3 4 5 6]\n",
            "[7 8 9 0 1 2 3 4 5 6]\n"
          ]
        }
      ]
    },
    {
      "cell_type": "markdown",
      "metadata": {
        "id": "CJisORPrSXTl"
      },
      "source": [
        "## dropout()"
      ]
    },
    {
      "cell_type": "code",
      "metadata": {
        "id": "at5E59ykSTiH",
        "colab": {
          "base_uri": "https://localhost:8080/"
        },
        "outputId": "148e833d-9a2a-4de8-cbe3-d1be6d681e65"
      },
      "source": [
        "import numpy as np\n",
        "data = np.arange(1, 11).reshape(5, 2).astype(np.float32)\n",
        "print(data)\n",
        "np.sum(data)"
      ],
      "execution_count": null,
      "outputs": [
        {
          "output_type": "stream",
          "name": "stdout",
          "text": [
            "[[ 1.  2.]\n",
            " [ 3.  4.]\n",
            " [ 5.  6.]\n",
            " [ 7.  8.]\n",
            " [ 9. 10.]]\n"
          ]
        },
        {
          "output_type": "execute_result",
          "data": {
            "text/plain": [
              "55.0"
            ]
          },
          "metadata": {},
          "execution_count": 12
        }
      ]
    },
    {
      "cell_type": "code",
      "metadata": {
        "id": "LeYGkyvWSqC4",
        "colab": {
          "base_uri": "https://localhost:8080/"
        },
        "outputId": "61685256-6020-40fc-cd76-20b9ad8a089d"
      },
      "source": [
        "tf.random.set_seed(0)\n",
        "#layer = tf.keras.layers.Dropout(.1, input_shape=(2,))\n",
        "layer = tf.keras.layers.Dropout(.3, input_shape=(2,))\n",
        "outputs = layer(data, training=True)\n",
        "#outputs = layer(data, training=False)\n",
        "print(outputs)\n",
        "np.sum(outputs)"
      ],
      "execution_count": null,
      "outputs": [
        {
          "output_type": "stream",
          "name": "stdout",
          "text": [
            "tf.Tensor(\n",
            "[[ 0.         0.       ]\n",
            " [ 4.285714   5.714286 ]\n",
            " [ 7.1428576  8.571428 ]\n",
            " [10.        11.428572 ]\n",
            " [12.857143   0.       ]], shape=(5, 2), dtype=float32)\n"
          ]
        },
        {
          "output_type": "execute_result",
          "data": {
            "text/plain": [
              "60.0"
            ]
          },
          "metadata": {},
          "execution_count": 13
        }
      ]
    },
    {
      "cell_type": "code",
      "metadata": {
        "colab": {
          "base_uri": "https://localhost:8080/"
        },
        "id": "SvzSeATJauPm",
        "outputId": "e94b90d1-56d4-4232-ac11-e44020a1b4b5"
      },
      "source": [
        "#tf.random.set_seed(0)\n",
        "layer = tf.keras.layers.Dropout(.2, input_shape=(2,))\n",
        "data = np.arange(10).reshape(5, 2).astype(np.float32)\n",
        "print(data)\n",
        "print(data.sum())\n",
        "outputs = layer(data, training=True)\n",
        "print(outputs)\n",
        "print(outputs.numpy().sum())"
      ],
      "execution_count": null,
      "outputs": [
        {
          "output_type": "stream",
          "name": "stdout",
          "text": [
            "[[0. 1.]\n",
            " [2. 3.]\n",
            " [4. 5.]\n",
            " [6. 7.]\n",
            " [8. 9.]]\n",
            "45.0\n",
            "tf.Tensor(\n",
            "[[ 0.    1.25]\n",
            " [ 2.5   3.75]\n",
            " [ 5.    6.25]\n",
            " [ 0.    8.75]\n",
            " [10.   11.25]], shape=(5, 2), dtype=float32)\n",
            "48.75\n"
          ]
        }
      ]
    },
    {
      "cell_type": "markdown",
      "metadata": {
        "id": "237NoRstFLAz"
      },
      "source": [
        "## 임의의 20개 예측 값과 정답 그리기"
      ]
    },
    {
      "cell_type": "code",
      "metadata": {
        "id": "GND-dQmq3Ac7",
        "colab": {
          "base_uri": "https://localhost:8080/",
          "height": 729
        },
        "outputId": "4a96aeb5-c520-42c8-bc85-e51f57269657"
      },
      "source": [
        "###############################################\n",
        "from random import sample\n",
        "import numpy as np\n",
        "\n",
        "# 예측한 softmax의 확률이 있는 리스트 pred_result\n",
        "pred_result = model.predict(x_test)\n",
        "\n",
        "# 실제 예측한 정답이 있는 리스트 pred_labels\n",
        "pred_labels = np.argmax(pred_result, axis=1)\n",
        "\n",
        "#랜덤하게 20개의 훈련용 자료를 예측 값과 정답, 그림을 그려 보자.\n",
        "nrows, ncols = 5, 4\n",
        "samples = sorted(sample(range(len(x_test)), nrows * ncols)) # 출력할 첨자 선정\n",
        "\n",
        "# 임의의 20개 그리기\n",
        "count = 0\n",
        "plt.figure(figsize=(12,10))\n",
        "for n in samples:\n",
        "    count += 1\n",
        "    plt.subplot(nrows, ncols, count)\n",
        "    # 예측이 틀린 것은 파란색으로 그리기 \n",
        "    cmap = 'Greys' if ( pred_labels[n] == y_test[n]) else 'Blues'\n",
        "    plt.imshow(x_test[n].reshape(28, 28), cmap=cmap, interpolation='nearest')\n",
        "    tmp = \"Label:\" + str(y_test[n]) + \", Prediction:\" + str(pred_labels[n])\n",
        "    plt.title(tmp)\n",
        "\n",
        "plt.tight_layout()\n",
        "plt.show()\n",
        "###############################################"
      ],
      "execution_count": null,
      "outputs": [
        {
          "output_type": "display_data",
          "data": {
            "image/png": "[encoded data removed]",
            "text/plain": [
              "<Figure size 864x720 with 20 Axes>"
            ]
          },
          "metadata": {
            "needs_background": "light"
          }
        }
      ]
    },
    {
      "cell_type": "code",
      "metadata": {
        "colab": {
          "base_uri": "https://localhost:8080/",
          "height": 729
        },
        "id": "L12vrHro7ag5",
        "outputId": "c6c1f52d-3534-47e0-aacc-75fb08e1f3a4"
      },
      "source": [
        "###############################################\n",
        "from random import sample\n",
        "import numpy as np\n",
        "\n",
        "# 예측한 softmax의 확률이 있는 리스트 pred_result\n",
        "pred_result = model.predict(x_test)\n",
        "\n",
        "# 실제 예측한 정답이 있는 리스트 pred_labels\n",
        "pred_labels = np.argmax(pred_result, axis=1)\n",
        "\n",
        "#랜덤하게 20개의 훈련용 자료를 예측 값과 정답, 그림을 그려 보자.\n",
        "nrows, ncols = 5, 4\n",
        "samples = sorted(sample(range(len(x_test)), nrows * ncols)) # 출력할 첨자 선정\n",
        "\n",
        "# 임의의 20개 그리기\n",
        "count = 0\n",
        "plt.figure(figsize=(12,10))\n",
        "for n in samples:\n",
        "    count += 1\n",
        "    plt.subplot(nrows, ncols, count)\n",
        "    cmap = 'Greys' if ( pred_labels[n] == y_test[n]) else 'Blues'\n",
        "    plt.imshow(x_test[n].reshape(28, 28), cmap=cmap, interpolation='nearest')\n",
        "    tmp = \"Label:\" + str(y_test[n]) + \", Prediction:\" + str(pred_labels[n])\n",
        "    plt.title(tmp)\n",
        "\n",
        "plt.tight_layout()\n",
        "plt.show()\n",
        "###############################################"
      ],
      "execution_count": null,
      "outputs": [
        {
          "output_type": "display_data",
          "data": {
            "image/png": "[encoded data removed]",
            "text/plain": [
              "<Figure size 864x720 with 20 Axes>"
            ]
          },
          "metadata": {
            "needs_background": "light"
          }
        }
      ]
    },
    {
      "cell_type": "markdown",
      "metadata": {
        "id": "uEgg4QelFwd9"
      },
      "source": [
        "## 예측이 틀린 임의 20개 그리기"
      ]
    },
    {
      "cell_type": "code",
      "metadata": {
        "id": "zyIlX7WMrUNa",
        "colab": {
          "base_uri": "https://localhost:8080/",
          "height": 764
        },
        "outputId": "1e79d89e-a5c4-4b48-d8aa-dbb815484574"
      },
      "source": [
        "from random import sample\n",
        "import numpy as np\n",
        "\n",
        "###############################################\n",
        "# 예측 틀린 것 첨자를 저장할 리스트\n",
        "mispred = []\n",
        "# 예측한 softmax의 확률이 있는 리스트 pred_result\n",
        "pred_result = model.predict(x_test)\n",
        "\n",
        "# 실제 예측한 정답이 있는 리스트 pred_labels\n",
        "pred_labels = np.argmax(pred_result, axis=1)\n",
        "\n",
        "mispred = [n for n in range(0, len(y_test)) if pred_labels[n] != y_test[n]]\n",
        "# for n in range(0, len(y_test)):\n",
        "#     if pred_labels[n] != y_test[n]:\n",
        "#         mispred.append(n)\n",
        "print('정답이 틀린 수', len(mispred))\n",
        "\n",
        "# 랜덤하게 틀린 것 20개의 첨자 리스트 생성\n",
        "samples = sample(mispred, 20)\n",
        "print(samples)\n",
        "\n",
        "# 틀린 것 20개 그리기\n",
        "count = 0\n",
        "nrows, ncols = 5, 4\n",
        "plt.figure(figsize=(12,10))\n",
        "for n in samples:\n",
        "    count += 1\n",
        "    plt.subplot(nrows, ncols, count)\n",
        "    plt.imshow(x_test[n].reshape(28, 28), cmap='Blues', interpolation='nearest')\n",
        "    tmp = \"Label:\" + str(y_test[n]) + \", Prediction:\" + str(pred_labels[n])\n",
        "    plt.title(tmp)\n",
        "\n",
        "plt.tight_layout()\n",
        "plt.show()\n",
        "###############################################"
      ],
      "execution_count": null,
      "outputs": [
        {
          "output_type": "stream",
          "name": "stdout",
          "text": [
            "정답이 틀린 수 234\n",
            "[1681, 2070, 1182, 2182, 3422, 2369, 3818, 7928, 9009, 5331, 1952, 1039, 9941, 1530, 9839, 5913, 321, 9280, 1790, 707]\n"
          ]
        },
        {
          "output_type": "display_data",
          "data": {
            "image/png": "[encoded data removed]",
            "text/plain": [
              "<Figure size 864x720 with 20 Axes>"
            ]
          },
          "metadata": {
            "needs_background": "light"
          }
        }
      ]
    },
    {
      "cell_type": "code",
      "metadata": {
        "id": "cf1taP303B4x",
        "colab": {
          "base_uri": "https://localhost:8080/"
        },
        "outputId": "8cda3148-114d-4047-d5f2-224738b1fbf3"
      },
      "source": [
        "#########################################################\n",
        "import tensorflow as tf\n",
        "\n",
        "# mnist 모듈 준비\n",
        "mnist = tf.keras.datasets.mnist\n",
        "\n",
        "# MNIST 데이터셋을 훈련과 테스트 데이터로 로드하여 준비\n",
        "(x_train, y_train), (x_test, y_test) = mnist.load_data()\n",
        "\n",
        "# 샘플 값을 정수(0~255)에서 부동소수(0~1)로 변환\n",
        "x_train, x_test = x_train / 255.0, x_test / 255.0\n",
        "\n",
        "\n",
        "# 층을 차례대로 쌓아 tf.keras.Sequential 모델을 생성\n",
        "model = tf.keras.models.Sequential([\n",
        "    tf.keras.layers.Flatten(input_shape=(28, 28)),\n",
        "    tf.keras.layers.Dense(128, activation='relu'),\n",
        "    tf.keras.layers.Dropout(.2),\n",
        "    tf.keras.layers.Dense(10, activation='softmax')                                     \n",
        "])\n",
        "\n",
        "# 훈련에 사용할 옵티마이저(optimizer)와 손실 함수, 출력정보를 선택\n",
        "model.compile(optimizer='adam', \n",
        "              loss='sparse_categorical_crossentropy',\n",
        "              metrics=['accuracy'])\n",
        "\n",
        "# 모델 요약 표시\n",
        "model.summary()\n",
        "\n",
        "# 모델을 훈련 데이터로 총 10번 훈련\n",
        "model.fit(x_train, y_train, epochs=10)\n",
        "\n",
        "# 모델을 테스트 데이터로 평가\n",
        "model.evaluate(x_test, y_test)"
      ],
      "execution_count": null,
      "outputs": [
        {
          "output_type": "stream",
          "text": [
            "Model: \"sequential_1\"\n",
            "_________________________________________________________________\n",
            "Layer (type)                 Output Shape              Param #   \n",
            "=================================================================\n",
            "flatten_1 (Flatten)          (None, 784)               0         \n",
            "_________________________________________________________________\n",
            "dense_2 (Dense)              (None, 128)               100480    \n",
            "_________________________________________________________________\n",
            "dropout_87 (Dropout)         (None, 128)               0         \n",
            "_________________________________________________________________\n",
            "dense_3 (Dense)              (None, 10)                1290      \n",
            "=================================================================\n",
            "Total params: 101,770\n",
            "Trainable params: 101,770\n",
            "Non-trainable params: 0\n",
            "_________________________________________________________________\n",
            "Epoch 1/10\n",
            "1875/1875 [==============================] - 5s 2ms/step - loss: 0.2934 - accuracy: 0.9153\n",
            "Epoch 2/10\n",
            "1875/1875 [==============================] - 4s 2ms/step - loss: 0.1437 - accuracy: 0.9573\n",
            "Epoch 3/10\n",
            "1875/1875 [==============================] - 4s 2ms/step - loss: 0.1078 - accuracy: 0.9674\n",
            "Epoch 4/10\n",
            "1875/1875 [==============================] - 4s 2ms/step - loss: 0.0895 - accuracy: 0.9714\n",
            "Epoch 5/10\n",
            "1875/1875 [==============================] - 4s 2ms/step - loss: 0.0744 - accuracy: 0.9766\n",
            "Epoch 6/10\n",
            "1875/1875 [==============================] - 4s 2ms/step - loss: 0.0663 - accuracy: 0.9782\n",
            "Epoch 7/10\n",
            "1875/1875 [==============================] - 4s 2ms/step - loss: 0.0596 - accuracy: 0.9805\n",
            "Epoch 8/10\n",
            "1875/1875 [==============================] - 4s 2ms/step - loss: 0.0534 - accuracy: 0.9829\n",
            "Epoch 9/10\n",
            "1875/1875 [==============================] - 4s 2ms/step - loss: 0.0481 - accuracy: 0.9843\n",
            "Epoch 10/10\n",
            "1875/1875 [==============================] - 4s 2ms/step - loss: 0.0425 - accuracy: 0.9860\n",
            "313/313 [==============================] - 1s 1ms/step - loss: 0.0727 - accuracy: 0.9801\n"
          ],
          "name": "stdout"
        },
        {
          "output_type": "execute_result",
          "data": {
            "text/plain": [
              "[0.07274871319532394, 0.9800999760627747]"
            ]
          },
          "metadata": {
            "tags": []
          },
          "execution_count": 119
        }
      ]
    },
    {
      "cell_type": "code",
      "metadata": {
        "id": "vtRFm72d-u7P",
        "colab": {
          "base_uri": "https://localhost:8080/"
        },
        "outputId": "41ffcf21-10aa-47a3-b6fd-9311ce0bf877"
      },
      "source": [
        "#########################################################\n",
        "import tensorflow as tf\n",
        "\n",
        "# mnist 모듈 준비\n",
        "mnist = tf.keras.datasets.mnist\n",
        "\n",
        "# MNIST 데이터셋을 훈련과 테스트 데이터로 로드하여 준비\n",
        "(x_train, y_train), (x_test, y_test) = mnist.load_data()\n",
        "\n",
        "# 샘플 값을 정수(0~255)에서 부동소수(0~1)로 변환\n",
        "x_train, x_test = x_train / 255.0, x_test / 255.0\n",
        "\n",
        "# 층을 차례대로 쌓아 tf.keras.Sequential 모델을 생성\n",
        "model = tf.keras.models.Sequential([\n",
        "    tf.keras.layers.Flatten(input_shape=(28, 28)),\n",
        "    tf.keras.layers.Dense(128, activation='relu'),\n",
        "    tf.keras.layers.Dropout(.2),\n",
        "    tf.keras.layers.Dense(64, activation='relu'),\n",
        "    tf.keras.layers.Dropout(.2),\n",
        "    tf.keras.layers.Dense(10, activation='softmax')                                     \n",
        "])\n",
        "\n",
        "# 훈련에 사용할 옵티마이저(optimizer)와 손실 함수, 출력정보를 선택\n",
        "model.compile(optimizer='adam', \n",
        "              loss='sparse_categorical_crossentropy',\n",
        "              metrics=['accuracy'])\n",
        "\n",
        "# 모델 요약 표시\n",
        "model.summary()\n",
        "\n",
        "# 모델을 훈련 데이터로 총 20번 훈련\n",
        "model.fit(x_train, y_train, epochs=20)\n",
        "\n",
        "# 모델을 테스트 데이터로 평가\n",
        "model.evaluate(x_test, y_test)"
      ],
      "execution_count": null,
      "outputs": [
        {
          "output_type": "stream",
          "text": [
            "Model: \"sequential_2\"\n",
            "_________________________________________________________________\n",
            "Layer (type)                 Output Shape              Param #   \n",
            "=================================================================\n",
            "flatten_2 (Flatten)          (None, 784)               0         \n",
            "_________________________________________________________________\n",
            "dense_4 (Dense)              (None, 128)               100480    \n",
            "_________________________________________________________________\n",
            "dropout_88 (Dropout)         (None, 128)               0         \n",
            "_________________________________________________________________\n",
            "dense_5 (Dense)              (None, 64)                8256      \n",
            "_________________________________________________________________\n",
            "dropout_89 (Dropout)         (None, 64)                0         \n",
            "_________________________________________________________________\n",
            "dense_6 (Dense)              (None, 10)                650       \n",
            "=================================================================\n",
            "Total params: 109,386\n",
            "Trainable params: 109,386\n",
            "Non-trainable params: 0\n",
            "_________________________________________________________________\n",
            "Epoch 1/20\n",
            "1875/1875 [==============================] - 5s 3ms/step - loss: 0.3252 - accuracy: 0.9029\n",
            "Epoch 2/20\n",
            "1875/1875 [==============================] - 5s 3ms/step - loss: 0.1596 - accuracy: 0.9530\n",
            "Epoch 3/20\n",
            "1875/1875 [==============================] - 5s 3ms/step - loss: 0.1247 - accuracy: 0.9627\n",
            "Epoch 4/20\n",
            "1875/1875 [==============================] - 5s 3ms/step - loss: 0.1059 - accuracy: 0.9683\n",
            "Epoch 5/20\n",
            "1875/1875 [==============================] - 5s 3ms/step - loss: 0.0937 - accuracy: 0.9712\n",
            "Epoch 6/20\n",
            "1875/1875 [==============================] - 5s 3ms/step - loss: 0.0839 - accuracy: 0.9744\n",
            "Epoch 7/20\n",
            "1875/1875 [==============================] - 5s 3ms/step - loss: 0.0786 - accuracy: 0.9757\n",
            "Epoch 8/20\n",
            "1875/1875 [==============================] - 5s 3ms/step - loss: 0.0733 - accuracy: 0.9775\n",
            "Epoch 9/20\n",
            "1875/1875 [==============================] - 5s 3ms/step - loss: 0.0664 - accuracy: 0.9790\n",
            "Epoch 10/20\n",
            "1875/1875 [==============================] - 5s 3ms/step - loss: 0.0602 - accuracy: 0.9802\n",
            "Epoch 11/20\n",
            "1875/1875 [==============================] - 5s 3ms/step - loss: 0.0575 - accuracy: 0.9818\n",
            "Epoch 12/20\n",
            "1875/1875 [==============================] - 5s 3ms/step - loss: 0.0578 - accuracy: 0.9823\n",
            "Epoch 13/20\n",
            "1875/1875 [==============================] - 5s 3ms/step - loss: 0.0543 - accuracy: 0.9829\n",
            "Epoch 14/20\n",
            "1875/1875 [==============================] - 5s 3ms/step - loss: 0.0530 - accuracy: 0.9829\n",
            "Epoch 15/20\n",
            "1875/1875 [==============================] - 5s 3ms/step - loss: 0.0482 - accuracy: 0.9846\n",
            "Epoch 16/20\n",
            "1875/1875 [==============================] - 5s 2ms/step - loss: 0.0484 - accuracy: 0.9846\n",
            "Epoch 17/20\n",
            "1875/1875 [==============================] - 5s 2ms/step - loss: 0.0473 - accuracy: 0.9849\n",
            "Epoch 18/20\n",
            "1875/1875 [==============================] - 5s 2ms/step - loss: 0.0435 - accuracy: 0.9855\n",
            "Epoch 19/20\n",
            "1875/1875 [==============================] - 5s 2ms/step - loss: 0.0431 - accuracy: 0.9859\n",
            "Epoch 20/20\n",
            "1875/1875 [==============================] - 5s 3ms/step - loss: 0.0407 - accuracy: 0.9869\n",
            "313/313 [==============================] - 1s 1ms/step - loss: 0.0784 - accuracy: 0.9803\n"
          ],
          "name": "stdout"
        },
        {
          "output_type": "execute_result",
          "data": {
            "text/plain": [
              "[0.0783604085445404, 0.9803000092506409]"
            ]
          },
          "metadata": {
            "tags": []
          },
          "execution_count": 120
        }
      ]
    },
    {
      "cell_type": "code",
      "metadata": {
        "id": "wmAJoez4IYm8"
      },
      "source": [
        ""
      ],
      "execution_count": null,
      "outputs": []
    },
    {
      "cell_type": "markdown",
      "metadata": {
        "id": "IljDVl_vnTlu"
      },
      "source": [
        "## flatten()하지 않고 먼저 reshape()로 평탄화 작업을 수행한 후 Dense() 층 사용"
      ]
    },
    {
      "cell_type": "code",
      "metadata": {
        "id": "EWKBYWuHGHN6",
        "colab": {
          "base_uri": "https://localhost:8080/"
        },
        "outputId": "51569f6f-f0e2-4f28-cc2b-653d61403bd6"
      },
      "source": [
        "#########################################################\n",
        "import tensorflow as tf\n",
        "\n",
        "mnist = tf.keras.datasets.mnist\n",
        "(x_train, y_train), (x_test, y_test) = mnist.load_data()\n",
        "\n",
        "# 샘플 값을 정수(0~255)에서 부동소수(0~1)로 변환\n",
        "x_train, x_test = x_train / 255.0, x_test / 255.0\n",
        "\n",
        "# 먼저 reshape()로 평탄화 작업을 수행한 후\n",
        "x_train = x_train.reshape((60000, 28*28))\n",
        "x_test = x_test.reshape((10000, 28*28))\n",
        "\n",
        "# 층을 차례대로 쌓아 tf.keras.models.Sequential 모델을 생성\n",
        "model = tf.keras.models.Sequential([\n",
        "    #tf.keras.layers.Flatten(input_shape=(28, 28)),\n",
        "    tf.keras.layers.Dense(128, activation='relu', input_shape=(28 * 28,)),\n",
        "    tf.keras.layers.Dropout(0.2),\n",
        "    tf.keras.layers.Dense(10, activation='softmax')\n",
        "])\n",
        "\n",
        "# 모델 요약 표시\n",
        "model.summary()\n",
        "\n",
        "# 훈련에 사용할 옵티마이저(optimizer)와 손실 함수, 출력정보를 모델에 설정\n",
        "model.compile(optimizer='adam',\n",
        "              loss='sparse_categorical_crossentropy',\n",
        "              metrics=['accuracy'])\n",
        "              # metrics=['accuracy', 'mse'])\n",
        "\n",
        "# 모델을 훈련 데이터로 총 5번 훈련\n",
        "model.fit(x_train, y_train, epochs=5)\n",
        "\n",
        "# 모델을 테스트 데이터로 평가\n",
        "model.evaluate(x_test, y_test)"
      ],
      "execution_count": null,
      "outputs": [
        {
          "output_type": "stream",
          "text": [
            "Model: \"sequential_3\"\n",
            "_________________________________________________________________\n",
            "Layer (type)                 Output Shape              Param #   \n",
            "=================================================================\n",
            "dense_7 (Dense)              (None, 128)               100480    \n",
            "_________________________________________________________________\n",
            "dropout_90 (Dropout)         (None, 128)               0         \n",
            "_________________________________________________________________\n",
            "dense_8 (Dense)              (None, 10)                1290      \n",
            "=================================================================\n",
            "Total params: 101,770\n",
            "Trainable params: 101,770\n",
            "Non-trainable params: 0\n",
            "_________________________________________________________________\n",
            "Epoch 1/5\n",
            "1875/1875 [==============================] - 5s 2ms/step - loss: 0.2947 - accuracy: 0.9148\n",
            "Epoch 2/5\n",
            "1875/1875 [==============================] - 4s 2ms/step - loss: 0.1425 - accuracy: 0.9578\n",
            "Epoch 3/5\n",
            "1875/1875 [==============================] - 4s 2ms/step - loss: 0.1058 - accuracy: 0.9676\n",
            "Epoch 4/5\n",
            "1875/1875 [==============================] - 4s 2ms/step - loss: 0.0867 - accuracy: 0.9732\n",
            "Epoch 5/5\n",
            "1875/1875 [==============================] - 4s 2ms/step - loss: 0.0751 - accuracy: 0.9759\n",
            "313/313 [==============================] - 1s 1ms/step - loss: 0.0811 - accuracy: 0.9753\n"
          ],
          "name": "stdout"
        },
        {
          "output_type": "execute_result",
          "data": {
            "text/plain": [
              "[0.08112090826034546, 0.9753000140190125]"
            ]
          },
          "metadata": {
            "tags": []
          },
          "execution_count": 121
        }
      ]
    },
    {
      "cell_type": "code",
      "metadata": {
        "id": "LoxZe7jdECKv"
      },
      "source": [
        ""
      ],
      "execution_count": null,
      "outputs": []
    }
  ]
}